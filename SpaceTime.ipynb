{
  "cells": [
    {
      "cell_type": "markdown",
      "metadata": {
        "id": "view-in-github",
        "colab_type": "text"
      },
      "source": [
        "<a href=\"https://colab.research.google.com/github/Signivis/SmartEmbed/blob/master/SpaceTime.ipynb\" target=\"_parent\"><img src=\"https://colab.research.google.com/assets/colab-badge.svg\" alt=\"Open In Colab\"/></a>"
      ]
    },
    {
      "cell_type": "markdown",
      "metadata": {
        "id": "Y1qkMgpP0PKJ"
      },
      "source": [
        "# SpaceTime 🌌⏱️ Demo - S&P 500 Price Forecasting + Trading\n",
        "\n",
        "A quick demo and walkthrough of SpaceTime, using S&P 500 index prices as a sample dataset.  \n",
        "* In Part 1, we'll walkthrough how to train SpaceTime models for forecasting, aiming to predict future S&P 500 index prices.  \n",
        "* In Part 2, we'll create a simple trading bot using these forecasts. \n",
        "\n",
        "None of this is financial advice!"
      ]
    },
    {
      "cell_type": "markdown",
      "metadata": {
        "id": "ZEbyiZdd0Sp_"
      },
      "source": [
        "### Setup"
      ]
    },
    {
      "cell_type": "code",
      "execution_count": null,
      "metadata": {
        "colab": {
          "background_save": true,
          "base_uri": "https://localhost:8080/"
        },
        "id": "nFZrL-ne0dou",
        "outputId": "543b0346-7f9f-4961-8bd0-2bd419f44ebd"
      },
      "outputs": [
        {
          "name": "stdout",
          "output_type": "stream",
          "text": [
            "fatal: destination path 'spacetime' already exists and is not an empty directory.\n"
          ]
        }
      ],
      "source": [
        "# Install SpaceTime code\n",
        "!git clone https://github.com/HazyResearch/spacetime.git"
      ]
    },
    {
      "cell_type": "code",
      "execution_count": null,
      "metadata": {
        "colab": {
          "background_save": true
        },
        "id": "6lGWO5Kj0g7a"
      },
      "outputs": [],
      "source": [
        "# General Setup\n",
        "import os\n",
        "import sys\n",
        "\n",
        "from os.path import join\n",
        "\n",
        "# Local imports from spacetime\n",
        "project_dir = './spacetime'\n",
        "sys.path.insert(0, os.path.abspath(project_dir)) "
      ]
    },
    {
      "cell_type": "code",
      "execution_count": null,
      "metadata": {
        "colab": {
          "background_save": true
        },
        "id": "dO9iLnnf1zec"
      },
      "outputs": [],
      "source": [
        "# The data science trinity, we might not use all of them\n",
        "import pandas as pd\n",
        "import numpy as np\n",
        "import matplotlib.pyplot as plt"
      ]
    },
    {
      "cell_type": "code",
      "execution_count": null,
      "metadata": {
        "colab": {
          "background_save": true
        },
        "id": "BaTaaJ0n0jJF"
      },
      "outputs": [],
      "source": [
        "# Installing dependencies - as a quick hack for colab we'll just convert the \n",
        "# environment.yaml into a requirements.txt, and use pip to install everything.\n",
        "# Code below from https://gist.github.com/pemagrg1/f959c19ec18fee3ce2ff9b3b86b67c16\n",
        "import yaml\n",
        "\n",
        "with open(join(project_dir, 'environment.yaml')) as file_handle:\n",
        "    environment_data = yaml.safe_load(file_handle)\n",
        "\n",
        "requirements = []\n",
        "for dep in environment_data['dependencies']:\n",
        "    if isinstance(dep, str):\n",
        "        try:\n",
        "            package, package_version = dep.split('=')\n",
        "            package_version = f'=={package_version}'\n",
        "        except:\n",
        "            package = dep\n",
        "            package_version = ''\n",
        "        if package not in ['python', 'pip', 'jupyter', 'jupyterlab',\n",
        "                           'pytorch', 'pandas', 'numpy', 'matplotlib']:\n",
        "            requirements.append(f'{package}{package_version}')\n",
        "    elif isinstance(dep, dict):\n",
        "        for preq in dep.get('pip', []):\n",
        "            requirements.append(preq)\n",
        "\n",
        "with open('requirements.txt', 'w') as fp:\n",
        "    for requirement in requirements:\n",
        "       print(requirement, file=fp)\n"
      ]
    },
    {
      "cell_type": "code",
      "execution_count": null,
      "metadata": {
        "colab": {
          "base_uri": "https://localhost:8080/"
        },
        "id": "hVSZcyef1j8R",
        "outputId": "0e053273-192e-47c9-d376-3751ae31cdab"
      },
      "outputs": [
        {
          "name": "stdout",
          "output_type": "stream",
          "text": [
            "Looking in indexes: https://pypi.org/simple, https://us-python.pkg.dev/colab-wheels/public/simple/\n",
            "Requirement already satisfied: transformers in /usr/local/lib/python3.9/dist-packages (from -r requirements.txt (line 1)) (4.27.3)\n",
            "Requirement already satisfied: timm==0.4.12 in /usr/local/lib/python3.9/dist-packages (from -r requirements.txt (line 2)) (0.4.12)\n",
            "Requirement already satisfied: omegaconf in /usr/local/lib/python3.9/dist-packages (from -r requirements.txt (line 3)) (2.3.0)\n",
            "Requirement already satisfied: einops in /usr/local/lib/python3.9/dist-packages (from -r requirements.txt (line 4)) (0.6.0)\n",
            "Requirement already satisfied: opt_einsum in /usr/local/lib/python3.9/dist-packages (from -r requirements.txt (line 5)) (3.3.0)\n",
            "Requirement already satisfied: tqdm in /usr/local/lib/python3.9/dist-packages (from -r requirements.txt (line 6)) (4.65.0)\n",
            "Requirement already satisfied: rich in /usr/local/lib/python3.9/dist-packages (from -r requirements.txt (line 7)) (13.3.2)\n",
            "Requirement already satisfied: wandb in /usr/local/lib/python3.9/dist-packages (from -r requirements.txt (line 8)) (0.14.0)\n",
            "Requirement already satisfied: torchvision in /usr/local/lib/python3.9/dist-packages (from timm==0.4.12->-r requirements.txt (line 2)) (0.14.1+cu116)\n",
            "Requirement already satisfied: torch>=1.4 in /usr/local/lib/python3.9/dist-packages (from timm==0.4.12->-r requirements.txt (line 2)) (1.13.1+cu116)\n",
            "Requirement already satisfied: tokenizers!=0.11.3,<0.14,>=0.11.1 in /usr/local/lib/python3.9/dist-packages (from transformers->-r requirements.txt (line 1)) (0.13.2)\n",
            "Requirement already satisfied: filelock in /usr/local/lib/python3.9/dist-packages (from transformers->-r requirements.txt (line 1)) (3.10.1)\n",
            "Requirement already satisfied: packaging>=20.0 in /usr/local/lib/python3.9/dist-packages (from transformers->-r requirements.txt (line 1)) (23.0)\n",
            "Requirement already satisfied: requests in /usr/local/lib/python3.9/dist-packages (from transformers->-r requirements.txt (line 1)) (2.27.1)\n",
            "Requirement already satisfied: huggingface-hub<1.0,>=0.11.0 in /usr/local/lib/python3.9/dist-packages (from transformers->-r requirements.txt (line 1)) (0.13.3)\n",
            "Requirement already satisfied: pyyaml>=5.1 in /usr/local/lib/python3.9/dist-packages (from transformers->-r requirements.txt (line 1)) (6.0)\n",
            "Requirement already satisfied: regex!=2019.12.17 in /usr/local/lib/python3.9/dist-packages (from transformers->-r requirements.txt (line 1)) (2022.10.31)\n",
            "Requirement already satisfied: numpy>=1.17 in /usr/local/lib/python3.9/dist-packages (from transformers->-r requirements.txt (line 1)) (1.22.4)\n",
            "Requirement already satisfied: antlr4-python3-runtime==4.9.* in /usr/local/lib/python3.9/dist-packages (from omegaconf->-r requirements.txt (line 3)) (4.9.3)\n",
            "Requirement already satisfied: pygments<3.0.0,>=2.13.0 in /usr/local/lib/python3.9/dist-packages (from rich->-r requirements.txt (line 7)) (2.14.0)\n",
            "Requirement already satisfied: markdown-it-py<3.0.0,>=2.2.0 in /usr/local/lib/python3.9/dist-packages (from rich->-r requirements.txt (line 7)) (2.2.0)\n",
            "Requirement already satisfied: docker-pycreds>=0.4.0 in /usr/local/lib/python3.9/dist-packages (from wandb->-r requirements.txt (line 8)) (0.4.0)\n",
            "Requirement already satisfied: setproctitle in /usr/local/lib/python3.9/dist-packages (from wandb->-r requirements.txt (line 8)) (1.3.2)\n",
            "Requirement already satisfied: appdirs>=1.4.3 in /usr/local/lib/python3.9/dist-packages (from wandb->-r requirements.txt (line 8)) (1.4.4)\n",
            "Requirement already satisfied: GitPython!=3.1.29,>=1.0.0 in /usr/local/lib/python3.9/dist-packages (from wandb->-r requirements.txt (line 8)) (3.1.31)\n",
            "Requirement already satisfied: typing-extensions in /usr/local/lib/python3.9/dist-packages (from wandb->-r requirements.txt (line 8)) (4.5.0)\n",
            "Requirement already satisfied: protobuf!=4.21.0,<5,>=3.15.0 in /usr/local/lib/python3.9/dist-packages (from wandb->-r requirements.txt (line 8)) (3.19.6)\n",
            "Requirement already satisfied: setuptools in /usr/local/lib/python3.9/dist-packages (from wandb->-r requirements.txt (line 8)) (67.6.0)\n",
            "Requirement already satisfied: pathtools in /usr/local/lib/python3.9/dist-packages (from wandb->-r requirements.txt (line 8)) (0.1.2)\n",
            "Requirement already satisfied: sentry-sdk>=1.0.0 in /usr/local/lib/python3.9/dist-packages (from wandb->-r requirements.txt (line 8)) (1.17.0)\n",
            "Requirement already satisfied: Click!=8.0.0,>=7.0 in /usr/local/lib/python3.9/dist-packages (from wandb->-r requirements.txt (line 8)) (8.1.3)\n",
            "Requirement already satisfied: psutil>=5.0.0 in /usr/local/lib/python3.9/dist-packages (from wandb->-r requirements.txt (line 8)) (5.9.4)\n",
            "Requirement already satisfied: six>=1.4.0 in /usr/local/lib/python3.9/dist-packages (from docker-pycreds>=0.4.0->wandb->-r requirements.txt (line 8)) (1.16.0)\n",
            "Requirement already satisfied: gitdb<5,>=4.0.1 in /usr/local/lib/python3.9/dist-packages (from GitPython!=3.1.29,>=1.0.0->wandb->-r requirements.txt (line 8)) (4.0.10)\n",
            "Requirement already satisfied: mdurl~=0.1 in /usr/local/lib/python3.9/dist-packages (from markdown-it-py<3.0.0,>=2.2.0->rich->-r requirements.txt (line 7)) (0.1.2)\n",
            "Requirement already satisfied: charset-normalizer~=2.0.0 in /usr/local/lib/python3.9/dist-packages (from requests->transformers->-r requirements.txt (line 1)) (2.0.12)\n",
            "Requirement already satisfied: urllib3<1.27,>=1.21.1 in /usr/local/lib/python3.9/dist-packages (from requests->transformers->-r requirements.txt (line 1)) (1.26.15)\n",
            "Requirement already satisfied: certifi>=2017.4.17 in /usr/local/lib/python3.9/dist-packages (from requests->transformers->-r requirements.txt (line 1)) (2022.12.7)\n",
            "Requirement already satisfied: idna<4,>=2.5 in /usr/local/lib/python3.9/dist-packages (from requests->transformers->-r requirements.txt (line 1)) (3.4)\n",
            "Requirement already satisfied: pillow!=8.3.*,>=5.3.0 in /usr/local/lib/python3.9/dist-packages (from torchvision->timm==0.4.12->-r requirements.txt (line 2)) (8.4.0)\n",
            "Requirement already satisfied: smmap<6,>=3.0.1 in /usr/local/lib/python3.9/dist-packages (from gitdb<5,>=4.0.1->GitPython!=3.1.29,>=1.0.0->wandb->-r requirements.txt (line 8)) (5.0.0)\n"
          ]
        }
      ],
      "source": [
        "# Install dependencies\n",
        "!pip install -r requirements.txt"
      ]
    },
    {
      "cell_type": "code",
      "execution_count": null,
      "metadata": {
        "id": "ly-Rzvztw9_l"
      },
      "outputs": [],
      "source": [
        "\n"
      ]
    },
    {
      "cell_type": "markdown",
      "metadata": {
        "id": "4Gg4jrgY0TLL"
      },
      "source": [
        "## Part 1: Training to forecast with SpaceTime\n",
        "\n",
        "We'll first download and setup some data via the Yahoo Finance API, showing how we can structure this data into a forecasting task and Pytorch dataloader for SpaceTime training. \n",
        "\n",
        "We'll then setup a SpaceTime model, walking through its configs and components. \n",
        "\n",
        "We'll finally train our SpaceTime model and visualize the results!"
      ]
    },
    {
      "cell_type": "code",
      "execution_count": null,
      "metadata": {
        "id": "SXyFAdsk2L3B"
      },
      "outputs": [],
      "source": [
        "from omegaconf import OmegaConf"
      ]
    },
    {
      "cell_type": "code",
      "execution_count": null,
      "metadata": {
        "id": "-TOyobdz2Hvg"
      },
      "outputs": [],
      "source": [
        "from utils.logging import print_config\n"
      ]
    },
    {
      "cell_type": "code",
      "execution_count": null,
      "metadata": {
        "colab": {
          "base_uri": "https://localhost:8080/",
          "height": 67
        },
        "id": "a9AMk6Um0Qu1",
        "outputId": "795d63c7-6bcd-431e-f2e9-882ffa75d36b"
      },
      "outputs": [
        {
          "data": {
            "text/html": [
              "<pre style=\"white-space:pre;overflow-x:auto;line-height:normal;font-family:Menlo,'DejaVu Sans Mono',consolas,'Courier New',monospace\">CONFIG\n",
              "└── seed\n",
              "    └── <span style=\"background-color: #272822\">42                                                                                                         </span>\n",
              "</pre>\n"
            ],
            "text/plain": [
              "CONFIG\n",
              "└── seed\n",
              "    └── \u001b[48;2;39;40;34m42\u001b[0m\u001b[48;2;39;40;34m                                                                                                         \u001b[0m\n"
            ]
          },
          "metadata": {},
          "output_type": "display_data"
        }
      ],
      "source": [
        "# Hacky args via an OmegaConf config\n",
        "args = \"\"\"\n",
        "seed: 42\n",
        "\"\"\"\n",
        "args = OmegaConf.create(args)\n",
        "print_config(args)"
      ]
    },
    {
      "cell_type": "markdown",
      "metadata": {
        "id": "Ja9B16Fv2K8P"
      },
      "source": [
        "### Part 1.1 Data + Task\n",
        "\n",
        "#### Load and setup data\n",
        "\n",
        "We'll start out with predicting closing prices for the S&P 500."
      ]
    },
    {
      "cell_type": "code",
      "execution_count": null,
      "metadata": {
        "colab": {
          "background_save": true,
          "base_uri": "https://localhost:8080/"
        },
        "id": "W7o4-JLF2s19",
        "outputId": "8c202dd0-cb23-4b63-e12c-6ca1172101d2"
      },
      "outputs": [
        {
          "name": "stdout",
          "output_type": "stream",
          "text": [
            "Looking in indexes: https://pypi.org/simple, https://us-python.pkg.dev/colab-wheels/public/simple/\n",
            "Requirement already satisfied: yfinance in /usr/local/lib/python3.9/dist-packages (0.2.13)\n",
            "Requirement already satisfied: lxml>=4.9.1 in /usr/local/lib/python3.9/dist-packages (from yfinance) (4.9.2)\n",
            "Requirement already satisfied: numpy>=1.16.5 in /usr/local/lib/python3.9/dist-packages (from yfinance) (1.22.4)\n",
            "Requirement already satisfied: multitasking>=0.0.7 in /usr/local/lib/python3.9/dist-packages (from yfinance) (0.0.11)\n",
            "Requirement already satisfied: cryptography>=3.3.2 in /usr/local/lib/python3.9/dist-packages (from yfinance) (39.0.2)\n",
            "Requirement already satisfied: pytz>=2022.5 in /usr/local/lib/python3.9/dist-packages (from yfinance) (2022.7.1)\n",
            "Requirement already satisfied: html5lib>=1.1 in /usr/local/lib/python3.9/dist-packages (from yfinance) (1.1)\n",
            "Requirement already satisfied: pandas>=1.3.0 in /usr/local/lib/python3.9/dist-packages (from yfinance) (1.4.4)\n",
            "Requirement already satisfied: frozendict>=2.3.4 in /usr/local/lib/python3.9/dist-packages (from yfinance) (2.3.6)\n",
            "Requirement already satisfied: beautifulsoup4>=4.11.1 in /usr/local/lib/python3.9/dist-packages (from yfinance) (4.11.2)\n",
            "Requirement already satisfied: appdirs>=1.4.4 in /usr/local/lib/python3.9/dist-packages (from yfinance) (1.4.4)\n",
            "Requirement already satisfied: requests>=2.26 in /usr/local/lib/python3.9/dist-packages (from yfinance) (2.27.1)\n",
            "Requirement already satisfied: soupsieve>1.2 in /usr/local/lib/python3.9/dist-packages (from beautifulsoup4>=4.11.1->yfinance) (2.4)\n",
            "Requirement already satisfied: cffi>=1.12 in /usr/local/lib/python3.9/dist-packages (from cryptography>=3.3.2->yfinance) (1.15.1)\n",
            "Requirement already satisfied: six>=1.9 in /usr/local/lib/python3.9/dist-packages (from html5lib>=1.1->yfinance) (1.16.0)\n",
            "Requirement already satisfied: webencodings in /usr/local/lib/python3.9/dist-packages (from html5lib>=1.1->yfinance) (0.5.1)\n",
            "Requirement already satisfied: python-dateutil>=2.8.1 in /usr/local/lib/python3.9/dist-packages (from pandas>=1.3.0->yfinance) (2.8.2)\n",
            "Requirement already satisfied: certifi>=2017.4.17 in /usr/local/lib/python3.9/dist-packages (from requests>=2.26->yfinance) (2022.12.7)\n",
            "Requirement already satisfied: urllib3<1.27,>=1.21.1 in /usr/local/lib/python3.9/dist-packages (from requests>=2.26->yfinance) (1.26.15)\n",
            "Requirement already satisfied: idna<4,>=2.5 in /usr/local/lib/python3.9/dist-packages (from requests>=2.26->yfinance) (3.4)\n",
            "Requirement already satisfied: charset-normalizer~=2.0.0 in /usr/local/lib/python3.9/dist-packages (from requests>=2.26->yfinance) (2.0.12)\n",
            "Requirement already satisfied: pycparser in /usr/local/lib/python3.9/dist-packages (from cffi>=1.12->cryptography>=3.3.2->yfinance) (2.21)\n"
          ]
        }
      ],
      "source": [
        "!pip install yfinance"
      ]
    },
    {
      "cell_type": "code",
      "execution_count": null,
      "metadata": {
        "colab": {
          "background_save": true
        },
        "id": "hAljTi-u3Qlr"
      },
      "outputs": [],
      "source": [
        "import yfinance as yf"
      ]
    },
    {
      "cell_type": "code",
      "execution_count": null,
      "metadata": {
        "colab": {
          "background_save": true
        },
        "id": "B5w6HCam3W0-"
      },
      "outputs": [],
      "source": [
        "yf_data = yf.Ticker('^GSPC')  # Ticker for S&P 500"
      ]
    },
    {
      "cell_type": "code",
      "execution_count": null,
      "metadata": {
        "colab": {
          "background_save": true
        },
        "id": "hNuUhbyh2vSz"
      },
      "outputs": [],
      "source": [
        "data = yf_data.history(period='max', start='1993-01-01',  # wow 30 years of data\n",
        "                       auto_adjust=True)  "
      ]
    },
    {
      "cell_type": "code",
      "execution_count": null,
      "metadata": {
        "colab": {
          "background_save": true
        },
        "id": "Gy5hGqk73zgk"
      },
      "outputs": [],
      "source": [
        "\n",
        "df = pd.DataFrame(data).reset_index()"
      ]
    },
    {
      "cell_type": "code",
      "execution_count": null,
      "metadata": {
        "colab": {
          "background_save": true
        },
        "id": "Cfk0-z_94EmJ",
        "outputId": "ecf0edd1-2484-4b84-c1f1-25b923c60c28"
      },
      "outputs": [
        {
          "data": {
            "text/html": [
              "\n",
              "  <div id=\"df-b723cf52-8e97-47e7-abf4-845a1a9c831d\">\n",
              "    <div class=\"colab-df-container\">\n",
              "      <div>\n",
              "<style scoped>\n",
              "    .dataframe tbody tr th:only-of-type {\n",
              "        vertical-align: middle;\n",
              "    }\n",
              "\n",
              "    .dataframe tbody tr th {\n",
              "        vertical-align: top;\n",
              "    }\n",
              "\n",
              "    .dataframe thead th {\n",
              "        text-align: right;\n",
              "    }\n",
              "</style>\n",
              "<table border=\"1\" class=\"dataframe\">\n",
              "  <thead>\n",
              "    <tr style=\"text-align: right;\">\n",
              "      <th></th>\n",
              "      <th>Date</th>\n",
              "      <th>Open</th>\n",
              "      <th>High</th>\n",
              "      <th>Low</th>\n",
              "      <th>Close</th>\n",
              "      <th>Volume</th>\n",
              "      <th>Dividends</th>\n",
              "      <th>Stock Splits</th>\n",
              "    </tr>\n",
              "  </thead>\n",
              "  <tbody>\n",
              "    <tr>\n",
              "      <th>0</th>\n",
              "      <td>1993-01-04 00:00:00-05:00</td>\n",
              "      <td>435.700012</td>\n",
              "      <td>437.320007</td>\n",
              "      <td>434.480011</td>\n",
              "      <td>435.380005</td>\n",
              "      <td>201210000</td>\n",
              "      <td>0.0</td>\n",
              "      <td>0.0</td>\n",
              "    </tr>\n",
              "    <tr>\n",
              "      <th>1</th>\n",
              "      <td>1993-01-05 00:00:00-05:00</td>\n",
              "      <td>435.380005</td>\n",
              "      <td>435.399994</td>\n",
              "      <td>433.549988</td>\n",
              "      <td>434.339996</td>\n",
              "      <td>240350000</td>\n",
              "      <td>0.0</td>\n",
              "      <td>0.0</td>\n",
              "    </tr>\n",
              "    <tr>\n",
              "      <th>2</th>\n",
              "      <td>1993-01-06 00:00:00-05:00</td>\n",
              "      <td>434.339996</td>\n",
              "      <td>435.170013</td>\n",
              "      <td>432.519989</td>\n",
              "      <td>434.519989</td>\n",
              "      <td>295240000</td>\n",
              "      <td>0.0</td>\n",
              "      <td>0.0</td>\n",
              "    </tr>\n",
              "  </tbody>\n",
              "</table>\n",
              "</div>\n",
              "      <button class=\"colab-df-convert\" onclick=\"convertToInteractive('df-b723cf52-8e97-47e7-abf4-845a1a9c831d')\"\n",
              "              title=\"Convert this dataframe to an interactive table.\"\n",
              "              style=\"display:none;\">\n",
              "        \n",
              "  <svg xmlns=\"http://www.w3.org/2000/svg\" height=\"24px\"viewBox=\"0 0 24 24\"\n",
              "       width=\"24px\">\n",
              "    <path d=\"M0 0h24v24H0V0z\" fill=\"none\"/>\n",
              "    <path d=\"M18.56 5.44l.94 2.06.94-2.06 2.06-.94-2.06-.94-.94-2.06-.94 2.06-2.06.94zm-11 1L8.5 8.5l.94-2.06 2.06-.94-2.06-.94L8.5 2.5l-.94 2.06-2.06.94zm10 10l.94 2.06.94-2.06 2.06-.94-2.06-.94-.94-2.06-.94 2.06-2.06.94z\"/><path d=\"M17.41 7.96l-1.37-1.37c-.4-.4-.92-.59-1.43-.59-.52 0-1.04.2-1.43.59L10.3 9.45l-7.72 7.72c-.78.78-.78 2.05 0 2.83L4 21.41c.39.39.9.59 1.41.59.51 0 1.02-.2 1.41-.59l7.78-7.78 2.81-2.81c.8-.78.8-2.07 0-2.86zM5.41 20L4 18.59l7.72-7.72 1.47 1.35L5.41 20z\"/>\n",
              "  </svg>\n",
              "      </button>\n",
              "      \n",
              "  <style>\n",
              "    .colab-df-container {\n",
              "      display:flex;\n",
              "      flex-wrap:wrap;\n",
              "      gap: 12px;\n",
              "    }\n",
              "\n",
              "    .colab-df-convert {\n",
              "      background-color: #E8F0FE;\n",
              "      border: none;\n",
              "      border-radius: 50%;\n",
              "      cursor: pointer;\n",
              "      display: none;\n",
              "      fill: #1967D2;\n",
              "      height: 32px;\n",
              "      padding: 0 0 0 0;\n",
              "      width: 32px;\n",
              "    }\n",
              "\n",
              "    .colab-df-convert:hover {\n",
              "      background-color: #E2EBFA;\n",
              "      box-shadow: 0px 1px 2px rgba(60, 64, 67, 0.3), 0px 1px 3px 1px rgba(60, 64, 67, 0.15);\n",
              "      fill: #174EA6;\n",
              "    }\n",
              "\n",
              "    [theme=dark] .colab-df-convert {\n",
              "      background-color: #3B4455;\n",
              "      fill: #D2E3FC;\n",
              "    }\n",
              "\n",
              "    [theme=dark] .colab-df-convert:hover {\n",
              "      background-color: #434B5C;\n",
              "      box-shadow: 0px 1px 3px 1px rgba(0, 0, 0, 0.15);\n",
              "      filter: drop-shadow(0px 1px 2px rgba(0, 0, 0, 0.3));\n",
              "      fill: #FFFFFF;\n",
              "    }\n",
              "  </style>\n",
              "\n",
              "      <script>\n",
              "        const buttonEl =\n",
              "          document.querySelector('#df-b723cf52-8e97-47e7-abf4-845a1a9c831d button.colab-df-convert');\n",
              "        buttonEl.style.display =\n",
              "          google.colab.kernel.accessAllowed ? 'block' : 'none';\n",
              "\n",
              "        async function convertToInteractive(key) {\n",
              "          const element = document.querySelector('#df-b723cf52-8e97-47e7-abf4-845a1a9c831d');\n",
              "          const dataTable =\n",
              "            await google.colab.kernel.invokeFunction('convertToInteractive',\n",
              "                                                     [key], {});\n",
              "          if (!dataTable) return;\n",
              "\n",
              "          const docLinkHtml = 'Like what you see? Visit the ' +\n",
              "            '<a target=\"_blank\" href=https://colab.research.google.com/notebooks/data_table.ipynb>data table notebook</a>'\n",
              "            + ' to learn more about interactive tables.';\n",
              "          element.innerHTML = '';\n",
              "          dataTable['output_type'] = 'display_data';\n",
              "          await google.colab.output.renderOutput(dataTable, element);\n",
              "          const docLink = document.createElement('div');\n",
              "          docLink.innerHTML = docLinkHtml;\n",
              "          element.appendChild(docLink);\n",
              "        }\n",
              "      </script>\n",
              "    </div>\n",
              "  </div>\n",
              "  "
            ],
            "text/plain": [
              "                       Date        Open        High         Low       Close  \\\n",
              "0 1993-01-04 00:00:00-05:00  435.700012  437.320007  434.480011  435.380005   \n",
              "1 1993-01-05 00:00:00-05:00  435.380005  435.399994  433.549988  434.339996   \n",
              "2 1993-01-06 00:00:00-05:00  434.339996  435.170013  432.519989  434.519989   \n",
              "\n",
              "      Volume  Dividends  Stock Splits  \n",
              "0  201210000        0.0           0.0  \n",
              "1  240350000        0.0           0.0  \n",
              "2  295240000        0.0           0.0  "
            ]
          },
          "metadata": {},
          "output_type": "display_data"
        },
        {
          "data": {
            "text/html": [
              "\n",
              "  <div id=\"df-6050e1af-6221-4532-8333-b1206b58c7fc\">\n",
              "    <div class=\"colab-df-container\">\n",
              "      <div>\n",
              "<style scoped>\n",
              "    .dataframe tbody tr th:only-of-type {\n",
              "        vertical-align: middle;\n",
              "    }\n",
              "\n",
              "    .dataframe tbody tr th {\n",
              "        vertical-align: top;\n",
              "    }\n",
              "\n",
              "    .dataframe thead th {\n",
              "        text-align: right;\n",
              "    }\n",
              "</style>\n",
              "<table border=\"1\" class=\"dataframe\">\n",
              "  <thead>\n",
              "    <tr style=\"text-align: right;\">\n",
              "      <th></th>\n",
              "      <th>Date</th>\n",
              "      <th>Open</th>\n",
              "      <th>High</th>\n",
              "      <th>Low</th>\n",
              "      <th>Close</th>\n",
              "      <th>Volume</th>\n",
              "      <th>Dividends</th>\n",
              "      <th>Stock Splits</th>\n",
              "    </tr>\n",
              "  </thead>\n",
              "  <tbody>\n",
              "    <tr>\n",
              "      <th>7609</th>\n",
              "      <td>2023-03-22 00:00:00-04:00</td>\n",
              "      <td>4002.040039</td>\n",
              "      <td>4039.489990</td>\n",
              "      <td>3936.169922</td>\n",
              "      <td>3936.969971</td>\n",
              "      <td>4533010000</td>\n",
              "      <td>0.0</td>\n",
              "      <td>0.0</td>\n",
              "    </tr>\n",
              "    <tr>\n",
              "      <th>7610</th>\n",
              "      <td>2023-03-23 00:00:00-04:00</td>\n",
              "      <td>3959.209961</td>\n",
              "      <td>4007.659912</td>\n",
              "      <td>3919.050049</td>\n",
              "      <td>3948.719971</td>\n",
              "      <td>4991600000</td>\n",
              "      <td>0.0</td>\n",
              "      <td>0.0</td>\n",
              "    </tr>\n",
              "    <tr>\n",
              "      <th>7611</th>\n",
              "      <td>2023-03-24 00:00:00-04:00</td>\n",
              "      <td>3939.209961</td>\n",
              "      <td>3972.739990</td>\n",
              "      <td>3909.159912</td>\n",
              "      <td>3970.989990</td>\n",
              "      <td>4583970000</td>\n",
              "      <td>0.0</td>\n",
              "      <td>0.0</td>\n",
              "    </tr>\n",
              "  </tbody>\n",
              "</table>\n",
              "</div>\n",
              "      <button class=\"colab-df-convert\" onclick=\"convertToInteractive('df-6050e1af-6221-4532-8333-b1206b58c7fc')\"\n",
              "              title=\"Convert this dataframe to an interactive table.\"\n",
              "              style=\"display:none;\">\n",
              "        \n",
              "  <svg xmlns=\"http://www.w3.org/2000/svg\" height=\"24px\"viewBox=\"0 0 24 24\"\n",
              "       width=\"24px\">\n",
              "    <path d=\"M0 0h24v24H0V0z\" fill=\"none\"/>\n",
              "    <path d=\"M18.56 5.44l.94 2.06.94-2.06 2.06-.94-2.06-.94-.94-2.06-.94 2.06-2.06.94zm-11 1L8.5 8.5l.94-2.06 2.06-.94-2.06-.94L8.5 2.5l-.94 2.06-2.06.94zm10 10l.94 2.06.94-2.06 2.06-.94-2.06-.94-.94-2.06-.94 2.06-2.06.94z\"/><path d=\"M17.41 7.96l-1.37-1.37c-.4-.4-.92-.59-1.43-.59-.52 0-1.04.2-1.43.59L10.3 9.45l-7.72 7.72c-.78.78-.78 2.05 0 2.83L4 21.41c.39.39.9.59 1.41.59.51 0 1.02-.2 1.41-.59l7.78-7.78 2.81-2.81c.8-.78.8-2.07 0-2.86zM5.41 20L4 18.59l7.72-7.72 1.47 1.35L5.41 20z\"/>\n",
              "  </svg>\n",
              "      </button>\n",
              "      \n",
              "  <style>\n",
              "    .colab-df-container {\n",
              "      display:flex;\n",
              "      flex-wrap:wrap;\n",
              "      gap: 12px;\n",
              "    }\n",
              "\n",
              "    .colab-df-convert {\n",
              "      background-color: #E8F0FE;\n",
              "      border: none;\n",
              "      border-radius: 50%;\n",
              "      cursor: pointer;\n",
              "      display: none;\n",
              "      fill: #1967D2;\n",
              "      height: 32px;\n",
              "      padding: 0 0 0 0;\n",
              "      width: 32px;\n",
              "    }\n",
              "\n",
              "    .colab-df-convert:hover {\n",
              "      background-color: #E2EBFA;\n",
              "      box-shadow: 0px 1px 2px rgba(60, 64, 67, 0.3), 0px 1px 3px 1px rgba(60, 64, 67, 0.15);\n",
              "      fill: #174EA6;\n",
              "    }\n",
              "\n",
              "    [theme=dark] .colab-df-convert {\n",
              "      background-color: #3B4455;\n",
              "      fill: #D2E3FC;\n",
              "    }\n",
              "\n",
              "    [theme=dark] .colab-df-convert:hover {\n",
              "      background-color: #434B5C;\n",
              "      box-shadow: 0px 1px 3px 1px rgba(0, 0, 0, 0.15);\n",
              "      filter: drop-shadow(0px 1px 2px rgba(0, 0, 0, 0.3));\n",
              "      fill: #FFFFFF;\n",
              "    }\n",
              "  </style>\n",
              "\n",
              "      <script>\n",
              "        const buttonEl =\n",
              "          document.querySelector('#df-6050e1af-6221-4532-8333-b1206b58c7fc button.colab-df-convert');\n",
              "        buttonEl.style.display =\n",
              "          google.colab.kernel.accessAllowed ? 'block' : 'none';\n",
              "\n",
              "        async function convertToInteractive(key) {\n",
              "          const element = document.querySelector('#df-6050e1af-6221-4532-8333-b1206b58c7fc');\n",
              "          const dataTable =\n",
              "            await google.colab.kernel.invokeFunction('convertToInteractive',\n",
              "                                                     [key], {});\n",
              "          if (!dataTable) return;\n",
              "\n",
              "          const docLinkHtml = 'Like what you see? Visit the ' +\n",
              "            '<a target=\"_blank\" href=https://colab.research.google.com/notebooks/data_table.ipynb>data table notebook</a>'\n",
              "            + ' to learn more about interactive tables.';\n",
              "          element.innerHTML = '';\n",
              "          dataTable['output_type'] = 'display_data';\n",
              "          await google.colab.output.renderOutput(dataTable, element);\n",
              "          const docLink = document.createElement('div');\n",
              "          docLink.innerHTML = docLinkHtml;\n",
              "          element.appendChild(docLink);\n",
              "        }\n",
              "      </script>\n",
              "    </div>\n",
              "  </div>\n",
              "  "
            ],
            "text/plain": [
              "                          Date         Open         High          Low  \\\n",
              "7609 2023-03-22 00:00:00-04:00  4002.040039  4039.489990  3936.169922   \n",
              "7610 2023-03-23 00:00:00-04:00  3959.209961  4007.659912  3919.050049   \n",
              "7611 2023-03-24 00:00:00-04:00  3939.209961  3972.739990  3909.159912   \n",
              "\n",
              "            Close      Volume  Dividends  Stock Splits  \n",
              "7609  3936.969971  4533010000        0.0           0.0  \n",
              "7610  3948.719971  4991600000        0.0           0.0  \n",
              "7611  3970.989990  4583970000        0.0           0.0  "
            ]
          },
          "metadata": {},
          "output_type": "display_data"
        }
      ],
      "source": [
        "# Visualize what we're dealing with\n",
        "display(df.head(3))\n",
        "display(df.tail(3))"
      ]
    },
    {
      "cell_type": "code",
      "execution_count": null,
      "metadata": {
        "colab": {
          "background_save": true
        },
        "id": "DxxsFiyQ4OJg",
        "outputId": "21184463-9c52-4b4e-e0de-cb311560be9e"
      },
      "outputs": [
        {
          "data": {
            "image/png": "[encoded data removed]",
            "text/plain": [
              "<Figure size 432x288 with 1 Axes>"
            ]
          },
          "metadata": {},
          "output_type": "display_data"
        }
      ],
      "source": [
        "# Visualize closing prices\n",
        "plt.plot(df['Date'], df['Close'])\n",
        "plt.show()"
      ]
    },
    {
      "cell_type": "markdown",
      "metadata": {
        "id": "8uK_QenF4Sk5"
      },
      "source": [
        "#### Structure data \n",
        "\n",
        "We want a model that can forecast out a horizon of future terms given some past historical lag terms. To do so, we'll structure the data into a \"sliding window\" of sample inputs and targets `x, y`, where input `x` is a sequence of neighboring lag terms and target `y` is a sequence of neighboring horizon terms."
      ]
    },
    {
      "cell_type": "markdown",
      "metadata": {
        "id": "He5kVenM5PmD"
      },
      "source": [
        "#### Set lag and horizon prediction task"
      ]
    },
    {
      "cell_type": "code",
      "execution_count": null,
      "metadata": {
        "colab": {
          "background_save": true
        },
        "id": "JmAQSyGc5UX6"
      },
      "outputs": [],
      "source": [
        "args.lag = 84          # We'll use the prior 12 calendar weeks as inputs\n",
        "args.horizon = 20      # We'll then try to predict out the next 20 available days (4ish working weeks)\n",
        "args.target = 'Close'  # Pick one feature to forecast \n",
        "\n",
        "# Windows of samples\n",
        "samples = [w.to_numpy() for w in df[args.target].rolling(window=args.lag + args.horizon)][args.lag + args.horizon - 1:]\n",
        "# Dates for each sample\n",
        "dates = [w for w in df['Date'].rolling(window=args.lag + args.horizon)][args.lag + args.horizon - 1:]"
      ]
    },
    {
      "cell_type": "code",
      "execution_count": null,
      "metadata": {
        "colab": {
          "background_save": true
        },
        "id": "nlh-xkAG50NG",
        "outputId": "d4d43d60-1d63-43e4-a640-0808307514c5"
      },
      "outputs": [
        {
          "data": {
            "text/plain": [
              "7509"
            ]
          },
          "execution_count": 17,
          "metadata": {},
          "output_type": "execute_result"
        }
      ],
      "source": [
        "len(samples)  # Total number of samples"
      ]
    },
    {
      "cell_type": "code",
      "execution_count": null,
      "metadata": {
        "colab": {
          "background_save": true
        },
        "id": "3EvbH3Q1519Y",
        "outputId": "f5265f4a-4b3b-43f2-9f62-53a19e7ee7a7"
      },
      "outputs": [
        {
          "data": {
            "text/plain": [
              "0     1993-01-04 00:00:00-05:00\n",
              "1     1993-01-05 00:00:00-05:00\n",
              "2     1993-01-06 00:00:00-05:00\n",
              "3     1993-01-07 00:00:00-05:00\n",
              "4     1993-01-08 00:00:00-05:00\n",
              "                 ...           \n",
              "99    1993-05-25 00:00:00-04:00\n",
              "100   1993-05-26 00:00:00-04:00\n",
              "101   1993-05-27 00:00:00-04:00\n",
              "102   1993-05-28 00:00:00-04:00\n",
              "103   1993-06-01 00:00:00-04:00\n",
              "Name: Date, Length: 104, dtype: datetime64[ns, America/New_York]"
            ]
          },
          "execution_count": 18,
          "metadata": {},
          "output_type": "execute_result"
        }
      ],
      "source": [
        "dates[0]  # Double-check we're dealing with lag + horizon dates per sample"
      ]
    },
    {
      "cell_type": "markdown",
      "metadata": {
        "id": "CdD3ER7-554N"
      },
      "source": [
        "#### Set evaluation timeframe\n",
        "We'll see if we can predict market prices starting in 2022. To do so, we'll roughly construct a test set from the samples where the horizon terms start occurring in 2022 (note that for the first test samples, we'll then have some lag terms that occur in 2021).\n",
        "\n",
        "We'll then create training and validation sets from the remaining data. "
      ]
    },
    {
      "cell_type": "code",
      "execution_count": null,
      "metadata": {
        "colab": {
          "background_save": true
        },
        "id": "LgjMVh8p6goN"
      },
      "outputs": [],
      "source": [
        "import datetime\n",
        "\n",
        "test_year = 2022  \n",
        "test_date = datetime.date(test_year, 1, min(args.horizon, 30)) \n",
        "\n",
        "## Convert 'Date' to datetime object\n",
        "df['Date'] = pd.to_datetime(df['Date']).dt.date\n",
        "\n",
        "## Find indices corresponding to test year dates\n",
        "test_ix = len(dates) - df[df['Date'] >= test_date].shape[0]"
      ]
    },
    {
      "cell_type": "code",
      "execution_count": null,
      "metadata": {
        "colab": {
          "background_save": true
        },
        "id": "YWf8NsXg6nZ9",
        "outputId": "cc1e6953-89a0-485e-ca3f-2a6027276221"
      },
      "outputs": [
        {
          "data": {
            "text/plain": [
              "7297   2021-12-22 00:00:00-05:00\n",
              "7298   2021-12-23 00:00:00-05:00\n",
              "7299   2021-12-27 00:00:00-05:00\n",
              "7300   2021-12-28 00:00:00-05:00\n",
              "7301   2021-12-29 00:00:00-05:00\n",
              "7302   2021-12-30 00:00:00-05:00\n",
              "7303   2021-12-31 00:00:00-05:00\n",
              "7304   2022-01-03 00:00:00-05:00\n",
              "7305   2022-01-04 00:00:00-05:00\n",
              "7306   2022-01-05 00:00:00-05:00\n",
              "7307   2022-01-06 00:00:00-05:00\n",
              "7308   2022-01-07 00:00:00-05:00\n",
              "7309   2022-01-10 00:00:00-05:00\n",
              "7310   2022-01-11 00:00:00-05:00\n",
              "7311   2022-01-12 00:00:00-05:00\n",
              "7312   2022-01-13 00:00:00-05:00\n",
              "7313   2022-01-14 00:00:00-05:00\n",
              "7314   2022-01-18 00:00:00-05:00\n",
              "7315   2022-01-19 00:00:00-05:00\n",
              "7316   2022-01-20 00:00:00-05:00\n",
              "Name: Date, dtype: datetime64[ns, America/New_York]"
            ]
          },
          "execution_count": 20,
          "metadata": {},
          "output_type": "execute_result"
        }
      ],
      "source": [
        "# Check that the horizon dates are roughly in 2022\n",
        "dates[test_ix][args.lag:args.lag + args.horizon]"
      ]
    },
    {
      "cell_type": "markdown",
      "metadata": {
        "id": "5T8G2htD689v"
      },
      "source": [
        "#### Create training and validation splits"
      ]
    },
    {
      "cell_type": "code",
      "execution_count": null,
      "metadata": {
        "colab": {
          "background_save": true
        },
        "id": "YROYVXU77Vzb"
      },
      "outputs": [],
      "source": [
        "def train_val_split(data_indices, val_ratio=0.1):\n",
        "    train_ratio = 1 - val_ratio\n",
        "    last_train_index = int(np.round(len(data_indices) * train_ratio))\n",
        "    return data_indices[:last_train_index], data_indices[last_train_index:]"
      ]
    },
    {
      "cell_type": "code",
      "execution_count": null,
      "metadata": {
        "colab": {
          "background_save": true
        },
        "id": "o75qK9H47YXp",
        "outputId": "f2d48d55-6bc6-4eaf-8596-ffbe6fd867e8"
      },
      "outputs": [
        {
          "data": {
            "image/png": "[encoded data removed]",
            "text/plain": [
              "<Figure size 432x288 with 1 Axes>"
            ]
          },
          "metadata": {},
          "output_type": "display_data"
        }
      ],
      "source": [
        "# Split data indices for train and val sets\n",
        "train_indices, val_indices = train_val_split(np.arange(test_ix))\n",
        "train_samples = np.array(samples[:val_indices[0]])\n",
        "val_samples = np.array(samples[val_indices[0]:val_indices[-1]])\n",
        "\n",
        "# Sanity check the splits by plotting the last horizon term in each sample\n",
        "ix = -1\n",
        "plt.plot(train_samples[:, ix], label=f'{args.target} (train)', alpha=1)\n",
        "plt.plot(np.arange(len(train_samples), len(train_samples) + len(val_samples)), \n",
        "         val_samples[:, ix], label=f'{args.target} (val)', alpha=1)\n",
        "plt.legend()\n",
        "plt.show()"
      ]
    },
    {
      "cell_type": "markdown",
      "metadata": {
        "id": "KtEFH-tU7dBn"
      },
      "source": [
        "#### Capture the above in PyTorch datasets and dataloaders\n",
        "\n"
      ]
    },
    {
      "cell_type": "code",
      "execution_count": null,
      "metadata": {
        "colab": {
          "background_save": true
        },
        "id": "N9uxT6d98dbr"
      },
      "outputs": [],
      "source": [
        "import copy\n",
        "import torch\n",
        "from torch.utils.data import Dataset, DataLoader"
      ]
    },
    {
      "cell_type": "code",
      "execution_count": null,
      "metadata": {
        "colab": {
          "background_save": true
        },
        "id": "uei7zVOB8fF-"
      },
      "outputs": [],
      "source": [
        "class YahooStockPriceDataset(Dataset):\n",
        "    def __init__(self, data: np.array, lag: int, horizon: int):\n",
        "        super().__init__()\n",
        "        self.data_x = torch.tensor(data).unsqueeze(-1).float()\n",
        "        self.data_y = copy.deepcopy(self.data_x[:, -horizon:, :])\n",
        "        \n",
        "        self.lag = lag\n",
        "        self.horizon = horizon\n",
        "        \n",
        "    def __len__(self):\n",
        "        return len(self.data_x)\n",
        "    \n",
        "    def __getitem__(self, idx):\n",
        "        x = self.data_x[idx]\n",
        "        y = self.data_y[idx]\n",
        "        x[-self.horizon:] = 0  # Mask input horizon terms\n",
        "        return x, y, (self.lag, self.horizon)\n",
        "    \n",
        "    # For simplicity, we just keep these as identities.\n",
        "    # But we could imagine some kind of data transformation / scaling for the inputs\n",
        "    def transform(self, x):\n",
        "        return x\n",
        "    \n",
        "    def inverse_transform(self, x):\n",
        "        return x\n",
        "        "
      ]
    },
    {
      "cell_type": "code",
      "execution_count": null,
      "metadata": {
        "colab": {
          "background_save": true
        },
        "id": "KvCMWR7M8hC3"
      },
      "outputs": [],
      "source": [
        "# Function to load dataloaders for train, val, and test splits\n",
        "def load_data(df: pd.DataFrame, \n",
        "              lag: int, \n",
        "              horizon: int, \n",
        "              target: str, \n",
        "              val_ratio: float,\n",
        "              test_year_month_day: list[int], \n",
        "              **dataloader_kwargs: any):\n",
        "    \n",
        "    # Convert day-wise data into sequences of lag + horizon terms\n",
        "    samples = [w.to_numpy() for w in df[target].rolling(window=lag + horizon)][lag + horizon - 1:]\n",
        "    dates   = [w for w in df['Date'].rolling(window=lag + horizon)][lag + horizon - 1:]\n",
        "    \n",
        "    # Set aside test samples by date\n",
        "    test_date = datetime.date(*test_year_month_day)\n",
        "    df['Date'] = pd.to_datetime(df['Date']).dt.date\n",
        "    test_ix = len(dates) - df[df['Date'] >= test_date].shape[0]\n",
        "    test_samples = np.array(samples[test_ix:])\n",
        "    \n",
        "    # Get training + validation samples\n",
        "    train_indices, val_indices = train_val_split(np.arange(len(dates[:test_ix])), val_ratio)\n",
        "    train_samples = np.array(samples[:val_indices[0]])\n",
        "    val_samples = np.array(samples[val_indices[0]:val_indices[-1]])\n",
        "    \n",
        "    # PyTorch datasets and dataloaders\n",
        "    datasets = [YahooStockPriceDataset(_samples, lag, horizon)\n",
        "                for _samples in [train_samples, val_samples, test_samples]]\n",
        "    \n",
        "    dataloaders = [DataLoader(dataset, shuffle=True if ix == 0 else False, **dataloader_kwargs)\n",
        "                   for ix, dataset in enumerate(datasets)]\n",
        "    return dataloaders"
      ]
    },
    {
      "cell_type": "code",
      "execution_count": null,
      "metadata": {
        "colab": {
          "background_save": true
        },
        "id": "I5c4ixvA8q-W"
      },
      "outputs": [],
      "source": [
        "# Function to visualize samples over time\n",
        "def visualize_data(dataloaders, sample_idx, sample_dim=0,\n",
        "                   splits=['train', 'val', 'test'], title=None):\n",
        "    assert len(splits) == len(dataloaders)\n",
        "    start_idx = 0\n",
        "    for idx, split in enumerate(splits):\n",
        "        y = dataloaders[idx].dataset.data_x[:, sample_idx, sample_dim]\n",
        "        x = np.arange(len(y)) + start_idx\n",
        "        plt.plot(x, y, label=split)\n",
        "        start_idx += len(x)\n",
        "    plt.title(title)\n",
        "    plt.legend()\n",
        "    plt.show()"
      ]
    },
    {
      "cell_type": "markdown",
      "metadata": {
        "id": "LvboqkSc8uP9"
      },
      "source": [
        "#### Data + task setup via training configs"
      ]
    },
    {
      "cell_type": "code",
      "execution_count": null,
      "metadata": {
        "colab": {
          "background_save": true
        },
        "id": "b_9aRVC784FI"
      },
      "outputs": [],
      "source": [
        "# Again we use OmegaConf bc it's great\n",
        "dataset_configs = f\"\"\"\n",
        "lag: {args.lag}\n",
        "horizon: {args.horizon}\n",
        "target: Close\n",
        "val_ratio: 0.1\n",
        "test_year_month_day:\n",
        "- 2021\n",
        "- 1\n",
        "- 1\n",
        "\"\"\"\n",
        "dataset_configs = OmegaConf.create(dataset_configs)  "
      ]
    },
    {
      "cell_type": "code",
      "execution_count": null,
      "metadata": {
        "colab": {
          "background_save": true
        },
        "id": "dC0PWeXQ882F"
      },
      "outputs": [],
      "source": [
        "dataloader_configs = \"\"\"\n",
        "batch_size: 32\n",
        "num_workers: 2\n",
        "pin_memory: true\n",
        "\"\"\"\n",
        "dataloader_configs = OmegaConf.create(dataloader_configs)"
      ]
    },
    {
      "cell_type": "code",
      "execution_count": null,
      "metadata": {
        "colab": {
          "background_save": true
        },
        "id": "LaolHa-d9Gni",
        "outputId": "5151283c-d26c-4dde-e61d-238cd12574f7"
      },
      "outputs": [
        {
          "data": {
            "image/png": "[encoded data removed]",
            "text/plain": [
              "<Figure size 432x288 with 1 Axes>"
            ]
          },
          "metadata": {},
          "output_type": "display_data"
        }
      ],
      "source": [
        "# Load and visualize data\n",
        "torch.manual_seed(args.seed)\n",
        "dataloaders = load_data(df, **dataset_configs, **dataloader_configs)\n",
        "train_loader, val_loader, test_loader = dataloaders\n",
        "\n",
        "visualize_data(dataloaders, sample_idx=0)\n"
      ]
    },
    {
      "cell_type": "markdown",
      "metadata": {
        "id": "pjkOLxmH9NZD"
      },
      "source": [
        "### Part 1.2 SpaceTime Model\n",
        "\n",
        "We'll now define a SpaceTime model. To do so, we specify individual config files that determine individual components such as the input layer (*i.e.,* the embedding layer), the encoder layers, the decoder layer, and the final output layer.\n",
        "\n",
        "We explicitly write out the configs below, but they can also be found as `.yaml` files in `spacetime/configs/model/` (see the `spacetime/README.md` for more details)."
      ]
    },
    {
      "cell_type": "code",
      "execution_count": null,
      "metadata": {
        "colab": {
          "background_save": true
        },
        "id": "T-dis5C39sCX"
      },
      "outputs": [],
      "source": [
        "# We've got 4 main components to specify: \n",
        "# 1. The embedding / input projection (e.g., an MLP)\n",
        "# 2. The encoder block (\"open-loop\" / convolutional SpaceTime SSMs go here)\n",
        "# 3. The decoder block (\"closed-loop\" / recurrent SpaceTime SSMs go here)\n",
        "# 4. The output projection (e.g., an MLP)\n",
        "\n",
        "config_dir = 'spacetime/configs/'"
      ]
    },
    {
      "cell_type": "code",
      "execution_count": null,
      "metadata": {
        "colab": {
          "background_save": true
        },
        "id": "znB1fBS--PtN"
      },
      "outputs": [],
      "source": [
        "embedding_config = \"\"\"\n",
        "method: repeat\n",
        "kwargs:\n",
        "  input_dim: 1\n",
        "  embedding_dim: null\n",
        "  n_heads: 4\n",
        "  n_kernels: 32\n",
        "\"\"\"\n",
        "embedding_config = OmegaConf.create(embedding_config)"
      ]
    },
    {
      "cell_type": "code",
      "execution_count": null,
      "metadata": {
        "colab": {
          "background_save": true
        },
        "id": "z3v36Jfl-Tmn"
      },
      "outputs": [],
      "source": [
        "encoder_config = \"\"\"\n",
        "blocks:\n",
        "- input_dim: 128\n",
        "  pre_config: 'ssm/preprocess/residual'\n",
        "  ssm_config: 'ssm/companion_preprocess'\n",
        "  mlp_config: 'mlp/default'\n",
        "  skip_connection: true\n",
        "  skip_preprocess: false\n",
        "\"\"\"\n",
        "encoder_config = OmegaConf.create(encoder_config)"
      ]
    },
    {
      "cell_type": "code",
      "execution_count": null,
      "metadata": {
        "colab": {
          "background_save": true
        },
        "id": "-gRDJ25X-Um3"
      },
      "outputs": [],
      "source": [
        "decoder_config = \"\"\"\n",
        "blocks:\n",
        "- input_dim: 128\n",
        "  pre_config: 'ssm/preprocess/none'\n",
        "  ssm_config: 'ssm/closed_loop/companion'\n",
        "  mlp_config: 'mlp/identity'\n",
        "  skip_connection: false\n",
        "  skip_preprocess: false\n",
        "\"\"\"\n",
        "decoder_config = OmegaConf.create(decoder_config)"
      ]
    },
    {
      "cell_type": "code",
      "execution_count": null,
      "metadata": {
        "colab": {
          "background_save": true
        },
        "id": "CiPTsGgN-WG0"
      },
      "outputs": [],
      "source": [
        "output_config = \"\"\"\n",
        "input_dim: 128\n",
        "output_dim: 1\n",
        "method: mlp\n",
        "kwargs:\n",
        "  input_dim: 128\n",
        "  output_dim: 1\n",
        "  activation: gelu\n",
        "  dropout: 0.2\n",
        "  layernorm: false\n",
        "  n_layers: 1\n",
        "  n_activations: 1\n",
        "  pre_activation: true\n",
        "  input_shape: bld\n",
        "  skip_connection: false\n",
        "  average_pool: null\n",
        "\"\"\"\n",
        "output_config = OmegaConf.create(output_config)"
      ]
    },
    {
      "cell_type": "markdown",
      "metadata": {
        "id": "Psq1ZCXc-Yt7"
      },
      "source": [
        "#### Use configs to make a SpaceTime neural net"
      ]
    },
    {
      "cell_type": "code",
      "execution_count": null,
      "metadata": {
        "colab": {
          "background_save": true
        },
        "id": "X-7s1XNL-guN"
      },
      "outputs": [],
      "source": [
        "from model.network import SpaceTime\n",
        "from setup import seed_everything"
      ]
    },
    {
      "cell_type": "code",
      "execution_count": null,
      "metadata": {
        "colab": {
          "background_save": true
        },
        "id": "mxa4dcGu-iC0"
      },
      "outputs": [],
      "source": [
        "# Initialize SpaceTime encoder and decoder preprocessing, SSM, and MLP components\n",
        "# - These are referenced as paths in the above encoder and decoder configs\n",
        "def init_encoder_decoder_config(config, config_dir):\n",
        "    for ix, _config in enumerate(config['blocks']):\n",
        "        # Load preprocess kernel configs\n",
        "        c_path = join(config_dir, f\"{_config['pre_config']}.yaml\")\n",
        "        _config['pre_config'] = OmegaConf.load(c_path)\n",
        "        # Load SSM kernel configs\n",
        "        c_path = join(config_dir, f\"{_config['ssm_config']}.yaml\")\n",
        "        _config['ssm_config'] = OmegaConf.load(c_path)\n",
        "        # Load MLP configs\n",
        "        c_path = join(config_dir, f\"{_config['mlp_config']}.yaml\")\n",
        "        _config['mlp_config'] = OmegaConf.load(c_path)\n",
        "    return config"
      ]
    },
    {
      "cell_type": "code",
      "execution_count": null,
      "metadata": {
        "colab": {
          "background_save": true
        },
        "id": "wI1kSNdr-ju6"
      },
      "outputs": [],
      "source": [
        "encoder_config = init_encoder_decoder_config(encoder_config, join(config_dir, 'model'))\n",
        "decoder_config = init_encoder_decoder_config(decoder_config, join(config_dir, 'model'))"
      ]
    },
    {
      "cell_type": "code",
      "execution_count": null,
      "metadata": {
        "colab": {
          "background_save": true
        },
        "id": "sLPXpstD-saA"
      },
      "outputs": [],
      "source": [
        "# Initialize SpaceTime model\n",
        "model_configs = {\n",
        "    'embedding_config': embedding_config,\n",
        "    'encoder_config': encoder_config,\n",
        "    'decoder_config': decoder_config,\n",
        "    'output_config': output_config,\n",
        "    'lag': dataset_configs.lag,\n",
        "    'horizon': dataset_configs.horizon\n",
        "}\n",
        "seed_everything(args.seed)\n",
        "\n",
        "model = SpaceTime(**model_configs)"
      ]
    },
    {
      "cell_type": "markdown",
      "metadata": {
        "id": "uSbdyubk-2oM"
      },
      "source": [
        "##### View architecture\n",
        "We can either display the SpaceTime model as a PyTorch ``nn.Module`` object, or view the `OmegaConf` config behind it. "
      ]
    },
    {
      "cell_type": "code",
      "execution_count": null,
      "metadata": {
        "colab": {
          "background_save": true
        },
        "id": "e9zWueBm_Fnm"
      },
      "outputs": [],
      "source": [
        "from utils.config import print_config  # View OmegaConf configs"
      ]
    },
    {
      "cell_type": "code",
      "execution_count": null,
      "metadata": {
        "colab": {
          "background_save": true
        },
        "id": "sxF-JCDV-xGx",
        "outputId": "39601bec-72a2-4a83-c588-cd5462697614"
      },
      "outputs": [
        {
          "data": {
            "text/plain": [
              "SpaceTime(\n",
              "  (embedding): RepeatEmbedding()\n",
              "  (encoder): Encoder(\n",
              "    (blocks): Sequential(\n",
              "      (0): Block(\n",
              "        (pre): ResidualSSM()\n",
              "        (ssm): CompanionSSM()\n",
              "        (mlp): MLP(\n",
              "          (layernorm): Identity()\n",
              "          (layers): Sequential(\n",
              "            (0): GELU(approximate='none')\n",
              "            (1): Dropout(p=0.2, inplace=False)\n",
              "            (2): Linear(in_features=128, out_features=128, bias=True)\n",
              "          )\n",
              "        )\n",
              "      )\n",
              "    )\n",
              "  )\n",
              "  (decoder): Decoder(\n",
              "    (blocks): ClosedLoopBlock(\n",
              "      (pre): Identity()\n",
              "      (ssm): ClosedLoopCompanionSSM()\n",
              "      (mlp): Identity()\n",
              "    )\n",
              "  )\n",
              "  (output): MLP(\n",
              "    (layernorm): Identity()\n",
              "    (layers): Sequential(\n",
              "      (0): GELU(approximate='none')\n",
              "      (1): Dropout(p=0.2, inplace=False)\n",
              "      (2): Linear(in_features=128, out_features=1, bias=True)\n",
              "    )\n",
              "  )\n",
              ")"
            ]
          },
          "execution_count": 40,
          "metadata": {},
          "output_type": "execute_result"
        }
      ],
      "source": [
        "model  # PyTorch nn.Module view"
      ]
    },
    {
      "cell_type": "code",
      "execution_count": null,
      "metadata": {
        "colab": {
          "background_save": true
        },
        "id": "N0DVL5hG-0Jv",
        "outputId": "c93ffc55-66af-45de-e878-4f304afdbd24"
      },
      "outputs": [
        {
          "data": {
            "text/html": [
              "<pre style=\"white-space:pre;overflow-x:auto;line-height:normal;font-family:Menlo,'DejaVu Sans Mono',consolas,'Courier New',monospace\">CONFIG\n",
              "├── embedding_config\n",
              "│   └── <span style=\"color: #f92672; text-decoration-color: #f92672; background-color: #272822\">method</span><span style=\"color: #f8f8f2; text-decoration-color: #f8f8f2; background-color: #272822\">: </span><span style=\"background-color: #272822\">repeat                                                                                             </span>\n",
              "│       <span style=\"color: #f92672; text-decoration-color: #f92672; background-color: #272822\">kwargs</span><span style=\"color: #f8f8f2; text-decoration-color: #f8f8f2; background-color: #272822\">:</span><span style=\"background-color: #272822\">                                                                                                    </span>\n",
              "│       <span style=\"color: #f8f8f2; text-decoration-color: #f8f8f2; background-color: #272822\">  </span><span style=\"color: #f92672; text-decoration-color: #f92672; background-color: #272822\">input_dim</span><span style=\"color: #f8f8f2; text-decoration-color: #f8f8f2; background-color: #272822\">: </span><span style=\"background-color: #272822\">1                                                                                             </span>\n",
              "│       <span style=\"color: #f8f8f2; text-decoration-color: #f8f8f2; background-color: #272822\">  </span><span style=\"color: #f92672; text-decoration-color: #f92672; background-color: #272822\">embedding_dim</span><span style=\"color: #f8f8f2; text-decoration-color: #f8f8f2; background-color: #272822\">: </span><span style=\"background-color: #272822\">null                                                                                      </span>\n",
              "│       <span style=\"color: #f8f8f2; text-decoration-color: #f8f8f2; background-color: #272822\">  </span><span style=\"color: #f92672; text-decoration-color: #f92672; background-color: #272822\">n_heads</span><span style=\"color: #f8f8f2; text-decoration-color: #f8f8f2; background-color: #272822\">: </span><span style=\"background-color: #272822\">4                                                                                               </span>\n",
              "│       <span style=\"color: #f8f8f2; text-decoration-color: #f8f8f2; background-color: #272822\">  </span><span style=\"color: #f92672; text-decoration-color: #f92672; background-color: #272822\">n_kernels</span><span style=\"color: #f8f8f2; text-decoration-color: #f8f8f2; background-color: #272822\">: </span><span style=\"background-color: #272822\">32                                                                                            </span>\n",
              "│       <span style=\"background-color: #272822\">                                                                                                           </span>\n",
              "├── encoder_config\n",
              "│   └── <span style=\"color: #f92672; text-decoration-color: #f92672; background-color: #272822\">blocks</span><span style=\"color: #f8f8f2; text-decoration-color: #f8f8f2; background-color: #272822\">:</span><span style=\"background-color: #272822\">                                                                                                    </span>\n",
              "│       <span style=\"background-color: #272822\">-</span><span style=\"color: #f8f8f2; text-decoration-color: #f8f8f2; background-color: #272822\"> </span><span style=\"color: #f92672; text-decoration-color: #f92672; background-color: #272822\">input_dim</span><span style=\"color: #f8f8f2; text-decoration-color: #f8f8f2; background-color: #272822\">: </span><span style=\"background-color: #272822\">128                                                                                           </span>\n",
              "│       <span style=\"color: #f8f8f2; text-decoration-color: #f8f8f2; background-color: #272822\">  </span><span style=\"color: #f92672; text-decoration-color: #f92672; background-color: #272822\">pre_config</span><span style=\"color: #f8f8f2; text-decoration-color: #f8f8f2; background-color: #272822\">:</span><span style=\"background-color: #272822\">                                                                                              </span>\n",
              "│       <span style=\"color: #f8f8f2; text-decoration-color: #f8f8f2; background-color: #272822\">    </span><span style=\"color: #f92672; text-decoration-color: #f92672; background-color: #272822\">method</span><span style=\"color: #f8f8f2; text-decoration-color: #f8f8f2; background-color: #272822\">: </span><span style=\"background-color: #272822\">residual                                                                                       </span>\n",
              "│       <span style=\"color: #f8f8f2; text-decoration-color: #f8f8f2; background-color: #272822\">    </span><span style=\"color: #f92672; text-decoration-color: #f92672; background-color: #272822\">kwargs</span><span style=\"color: #f8f8f2; text-decoration-color: #f8f8f2; background-color: #272822\">:</span><span style=\"background-color: #272822\">                                                                                                </span>\n",
              "│       <span style=\"color: #f8f8f2; text-decoration-color: #f8f8f2; background-color: #272822\">      </span><span style=\"color: #f92672; text-decoration-color: #f92672; background-color: #272822\">max_diff_order</span><span style=\"color: #f8f8f2; text-decoration-color: #f8f8f2; background-color: #272822\">: </span><span style=\"background-color: #272822\">4                                                                                    </span>\n",
              "│       <span style=\"color: #f8f8f2; text-decoration-color: #f8f8f2; background-color: #272822\">      </span><span style=\"color: #f92672; text-decoration-color: #f92672; background-color: #272822\">min_avg_window</span><span style=\"color: #f8f8f2; text-decoration-color: #f8f8f2; background-color: #272822\">: </span><span style=\"background-color: #272822\">4                                                                                    </span>\n",
              "│       <span style=\"color: #f8f8f2; text-decoration-color: #f8f8f2; background-color: #272822\">      </span><span style=\"color: #f92672; text-decoration-color: #f92672; background-color: #272822\">max_avg_window</span><span style=\"color: #f8f8f2; text-decoration-color: #f8f8f2; background-color: #272822\">: </span><span style=\"background-color: #272822\">64                                                                                   </span>\n",
              "│       <span style=\"color: #f8f8f2; text-decoration-color: #f8f8f2; background-color: #272822\">      </span><span style=\"color: #f92672; text-decoration-color: #f92672; background-color: #272822\">model_dim</span><span style=\"color: #f8f8f2; text-decoration-color: #f8f8f2; background-color: #272822\">: </span><span style=\"background-color: #272822\">128                                                                                       </span>\n",
              "│       <span style=\"color: #f8f8f2; text-decoration-color: #f8f8f2; background-color: #272822\">      </span><span style=\"color: #f92672; text-decoration-color: #f92672; background-color: #272822\">n_kernels</span><span style=\"color: #f8f8f2; text-decoration-color: #f8f8f2; background-color: #272822\">: </span><span style=\"background-color: #272822\">8                                                                                         </span>\n",
              "│       <span style=\"color: #f8f8f2; text-decoration-color: #f8f8f2; background-color: #272822\">      </span><span style=\"color: #f92672; text-decoration-color: #f92672; background-color: #272822\">kernel_dim</span><span style=\"color: #f8f8f2; text-decoration-color: #f8f8f2; background-color: #272822\">: </span><span style=\"background-color: #272822\">2                                                                                        </span>\n",
              "│       <span style=\"color: #f8f8f2; text-decoration-color: #f8f8f2; background-color: #272822\">      </span><span style=\"color: #f92672; text-decoration-color: #f92672; background-color: #272822\">kernel_repeat</span><span style=\"color: #f8f8f2; text-decoration-color: #f8f8f2; background-color: #272822\">: </span><span style=\"background-color: #272822\">16                                                                                    </span>\n",
              "│       <span style=\"color: #f8f8f2; text-decoration-color: #f8f8f2; background-color: #272822\">      </span><span style=\"color: #f92672; text-decoration-color: #f92672; background-color: #272822\">n_heads</span><span style=\"color: #f8f8f2; text-decoration-color: #f8f8f2; background-color: #272822\">: </span><span style=\"background-color: #272822\">1                                                                                           </span>\n",
              "│       <span style=\"color: #f8f8f2; text-decoration-color: #f8f8f2; background-color: #272822\">      </span><span style=\"color: #f92672; text-decoration-color: #f92672; background-color: #272822\">head_dim</span><span style=\"color: #f8f8f2; text-decoration-color: #f8f8f2; background-color: #272822\">: </span><span style=\"background-color: #272822\">1                                                                                          </span>\n",
              "│       <span style=\"color: #f8f8f2; text-decoration-color: #f8f8f2; background-color: #272822\">      </span><span style=\"color: #f92672; text-decoration-color: #f92672; background-color: #272822\">kernel_weights</span><span style=\"color: #f8f8f2; text-decoration-color: #f8f8f2; background-color: #272822\">: </span><span style=\"background-color: #272822\">null                                                                                 </span>\n",
              "│       <span style=\"color: #f8f8f2; text-decoration-color: #f8f8f2; background-color: #272822\">      </span><span style=\"color: #f92672; text-decoration-color: #f92672; background-color: #272822\">kernel_init</span><span style=\"color: #f8f8f2; text-decoration-color: #f8f8f2; background-color: #272822\">: </span><span style=\"background-color: #272822\">null                                                                                    </span>\n",
              "│       <span style=\"color: #f8f8f2; text-decoration-color: #f8f8f2; background-color: #272822\">      </span><span style=\"color: #f92672; text-decoration-color: #f92672; background-color: #272822\">kernel_train</span><span style=\"color: #f8f8f2; text-decoration-color: #f8f8f2; background-color: #272822\">: </span><span style=\"background-color: #272822\">false                                                                                  </span>\n",
              "│       <span style=\"color: #f8f8f2; text-decoration-color: #f8f8f2; background-color: #272822\">      </span><span style=\"color: #f92672; text-decoration-color: #f92672; background-color: #272822\">skip_connection</span><span style=\"color: #f8f8f2; text-decoration-color: #f8f8f2; background-color: #272822\">: </span><span style=\"background-color: #272822\">false                                                                               </span>\n",
              "│       <span style=\"color: #f8f8f2; text-decoration-color: #f8f8f2; background-color: #272822\">  </span><span style=\"color: #f92672; text-decoration-color: #f92672; background-color: #272822\">ssm_config</span><span style=\"color: #f8f8f2; text-decoration-color: #f8f8f2; background-color: #272822\">:</span><span style=\"background-color: #272822\">                                                                                              </span>\n",
              "│       <span style=\"color: #f8f8f2; text-decoration-color: #f8f8f2; background-color: #272822\">    </span><span style=\"color: #f92672; text-decoration-color: #f92672; background-color: #272822\">method</span><span style=\"color: #f8f8f2; text-decoration-color: #f8f8f2; background-color: #272822\">: </span><span style=\"background-color: #272822\">companion                                                                                      </span>\n",
              "│       <span style=\"color: #f8f8f2; text-decoration-color: #f8f8f2; background-color: #272822\">    </span><span style=\"color: #f92672; text-decoration-color: #f92672; background-color: #272822\">kwargs</span><span style=\"color: #f8f8f2; text-decoration-color: #f8f8f2; background-color: #272822\">:</span><span style=\"background-color: #272822\">                                                                                                </span>\n",
              "│       <span style=\"color: #f8f8f2; text-decoration-color: #f8f8f2; background-color: #272822\">      </span><span style=\"color: #f92672; text-decoration-color: #f92672; background-color: #272822\">model_dim</span><span style=\"color: #f8f8f2; text-decoration-color: #f8f8f2; background-color: #272822\">: </span><span style=\"background-color: #272822\">128                                                                                       </span>\n",
              "│       <span style=\"color: #f8f8f2; text-decoration-color: #f8f8f2; background-color: #272822\">      </span><span style=\"color: #f92672; text-decoration-color: #f92672; background-color: #272822\">n_kernels</span><span style=\"color: #f8f8f2; text-decoration-color: #f8f8f2; background-color: #272822\">: </span><span style=\"background-color: #272822\">16                                                                                        </span>\n",
              "│       <span style=\"color: #f8f8f2; text-decoration-color: #f8f8f2; background-color: #272822\">      </span><span style=\"color: #f92672; text-decoration-color: #f92672; background-color: #272822\">kernel_dim</span><span style=\"color: #f8f8f2; text-decoration-color: #f8f8f2; background-color: #272822\">: </span><span style=\"background-color: #272822\">64                                                                                       </span>\n",
              "│       <span style=\"color: #f8f8f2; text-decoration-color: #f8f8f2; background-color: #272822\">      </span><span style=\"color: #f92672; text-decoration-color: #f92672; background-color: #272822\">kernel_repeat</span><span style=\"color: #f8f8f2; text-decoration-color: #f8f8f2; background-color: #272822\">: </span><span style=\"background-color: #272822\">1                                                                                     </span>\n",
              "│       <span style=\"color: #f8f8f2; text-decoration-color: #f8f8f2; background-color: #272822\">      </span><span style=\"color: #f92672; text-decoration-color: #f92672; background-color: #272822\">n_heads</span><span style=\"color: #f8f8f2; text-decoration-color: #f8f8f2; background-color: #272822\">: </span><span style=\"background-color: #272822\">8                                                                                           </span>\n",
              "│       <span style=\"color: #f8f8f2; text-decoration-color: #f8f8f2; background-color: #272822\">      </span><span style=\"color: #f92672; text-decoration-color: #f92672; background-color: #272822\">head_dim</span><span style=\"color: #f8f8f2; text-decoration-color: #f8f8f2; background-color: #272822\">: </span><span style=\"background-color: #272822\">1                                                                                          </span>\n",
              "│       <span style=\"color: #f8f8f2; text-decoration-color: #f8f8f2; background-color: #272822\">      </span><span style=\"color: #f92672; text-decoration-color: #f92672; background-color: #272822\">kernel_weights</span><span style=\"color: #f8f8f2; text-decoration-color: #f8f8f2; background-color: #272822\">: </span><span style=\"background-color: #272822\">null                                                                                 </span>\n",
              "│       <span style=\"color: #f8f8f2; text-decoration-color: #f8f8f2; background-color: #272822\">      </span><span style=\"color: #f92672; text-decoration-color: #f92672; background-color: #272822\">kernel_init</span><span style=\"color: #f8f8f2; text-decoration-color: #f8f8f2; background-color: #272822\">: </span><span style=\"background-color: #272822\">normal                                                                                  </span>\n",
              "│       <span style=\"color: #f8f8f2; text-decoration-color: #f8f8f2; background-color: #272822\">      </span><span style=\"color: #f92672; text-decoration-color: #f92672; background-color: #272822\">kernel_train</span><span style=\"color: #f8f8f2; text-decoration-color: #f8f8f2; background-color: #272822\">: </span><span style=\"background-color: #272822\">true                                                                                   </span>\n",
              "│       <span style=\"color: #f8f8f2; text-decoration-color: #f8f8f2; background-color: #272822\">      </span><span style=\"color: #f92672; text-decoration-color: #f92672; background-color: #272822\">skip_connection</span><span style=\"color: #f8f8f2; text-decoration-color: #f8f8f2; background-color: #272822\">: </span><span style=\"background-color: #272822\">true                                                                                </span>\n",
              "│       <span style=\"color: #f8f8f2; text-decoration-color: #f8f8f2; background-color: #272822\">      </span><span style=\"color: #f92672; text-decoration-color: #f92672; background-color: #272822\">norm_order</span><span style=\"color: #f8f8f2; text-decoration-color: #f8f8f2; background-color: #272822\">: </span><span style=\"background-color: #272822\">1                                                                                        </span>\n",
              "│       <span style=\"color: #f8f8f2; text-decoration-color: #f8f8f2; background-color: #272822\">  </span><span style=\"color: #f92672; text-decoration-color: #f92672; background-color: #272822\">mlp_config</span><span style=\"color: #f8f8f2; text-decoration-color: #f8f8f2; background-color: #272822\">:</span><span style=\"background-color: #272822\">                                                                                              </span>\n",
              "│       <span style=\"color: #f8f8f2; text-decoration-color: #f8f8f2; background-color: #272822\">    </span><span style=\"color: #f92672; text-decoration-color: #f92672; background-color: #272822\">method</span><span style=\"color: #f8f8f2; text-decoration-color: #f8f8f2; background-color: #272822\">: </span><span style=\"background-color: #272822\">mlp                                                                                            </span>\n",
              "│       <span style=\"color: #f8f8f2; text-decoration-color: #f8f8f2; background-color: #272822\">    </span><span style=\"color: #f92672; text-decoration-color: #f92672; background-color: #272822\">kwargs</span><span style=\"color: #f8f8f2; text-decoration-color: #f8f8f2; background-color: #272822\">:</span><span style=\"background-color: #272822\">                                                                                                </span>\n",
              "│       <span style=\"color: #f8f8f2; text-decoration-color: #f8f8f2; background-color: #272822\">      </span><span style=\"color: #f92672; text-decoration-color: #f92672; background-color: #272822\">input_dim</span><span style=\"color: #f8f8f2; text-decoration-color: #f8f8f2; background-color: #272822\">: </span><span style=\"background-color: #272822\">128                                                                                       </span>\n",
              "│       <span style=\"color: #f8f8f2; text-decoration-color: #f8f8f2; background-color: #272822\">      </span><span style=\"color: #f92672; text-decoration-color: #f92672; background-color: #272822\">output_dim</span><span style=\"color: #f8f8f2; text-decoration-color: #f8f8f2; background-color: #272822\">: </span><span style=\"background-color: #272822\">128                                                                                      </span>\n",
              "│       <span style=\"color: #f8f8f2; text-decoration-color: #f8f8f2; background-color: #272822\">      </span><span style=\"color: #f92672; text-decoration-color: #f92672; background-color: #272822\">activation</span><span style=\"color: #f8f8f2; text-decoration-color: #f8f8f2; background-color: #272822\">: </span><span style=\"background-color: #272822\">gelu                                                                                     </span>\n",
              "│       <span style=\"color: #f8f8f2; text-decoration-color: #f8f8f2; background-color: #272822\">      </span><span style=\"color: #f92672; text-decoration-color: #f92672; background-color: #272822\">dropout</span><span style=\"color: #f8f8f2; text-decoration-color: #f8f8f2; background-color: #272822\">: </span><span style=\"background-color: #272822\">0.2                                                                                         </span>\n",
              "│       <span style=\"color: #f8f8f2; text-decoration-color: #f8f8f2; background-color: #272822\">      </span><span style=\"color: #f92672; text-decoration-color: #f92672; background-color: #272822\">layernorm</span><span style=\"color: #f8f8f2; text-decoration-color: #f8f8f2; background-color: #272822\">: </span><span style=\"background-color: #272822\">false                                                                                     </span>\n",
              "│       <span style=\"color: #f8f8f2; text-decoration-color: #f8f8f2; background-color: #272822\">      </span><span style=\"color: #f92672; text-decoration-color: #f92672; background-color: #272822\">n_layers</span><span style=\"color: #f8f8f2; text-decoration-color: #f8f8f2; background-color: #272822\">: </span><span style=\"background-color: #272822\">1                                                                                          </span>\n",
              "│       <span style=\"color: #f8f8f2; text-decoration-color: #f8f8f2; background-color: #272822\">      </span><span style=\"color: #f92672; text-decoration-color: #f92672; background-color: #272822\">n_activations</span><span style=\"color: #f8f8f2; text-decoration-color: #f8f8f2; background-color: #272822\">: </span><span style=\"background-color: #272822\">1                                                                                     </span>\n",
              "│       <span style=\"color: #f8f8f2; text-decoration-color: #f8f8f2; background-color: #272822\">      </span><span style=\"color: #f92672; text-decoration-color: #f92672; background-color: #272822\">pre_activation</span><span style=\"color: #f8f8f2; text-decoration-color: #f8f8f2; background-color: #272822\">: </span><span style=\"background-color: #272822\">true                                                                                 </span>\n",
              "│       <span style=\"color: #f8f8f2; text-decoration-color: #f8f8f2; background-color: #272822\">      </span><span style=\"color: #f92672; text-decoration-color: #f92672; background-color: #272822\">input_shape</span><span style=\"color: #f8f8f2; text-decoration-color: #f8f8f2; background-color: #272822\">: </span><span style=\"background-color: #272822\">bld                                                                                     </span>\n",
              "│       <span style=\"color: #f8f8f2; text-decoration-color: #f8f8f2; background-color: #272822\">      </span><span style=\"color: #f92672; text-decoration-color: #f92672; background-color: #272822\">skip_connection</span><span style=\"color: #f8f8f2; text-decoration-color: #f8f8f2; background-color: #272822\">: </span><span style=\"background-color: #272822\">true                                                                                </span>\n",
              "│       <span style=\"color: #f8f8f2; text-decoration-color: #f8f8f2; background-color: #272822\">      </span><span style=\"color: #f92672; text-decoration-color: #f92672; background-color: #272822\">average_pool</span><span style=\"color: #f8f8f2; text-decoration-color: #f8f8f2; background-color: #272822\">: </span><span style=\"background-color: #272822\">null                                                                                   </span>\n",
              "│       <span style=\"color: #f8f8f2; text-decoration-color: #f8f8f2; background-color: #272822\">  </span><span style=\"color: #f92672; text-decoration-color: #f92672; background-color: #272822\">skip_connection</span><span style=\"color: #f8f8f2; text-decoration-color: #f8f8f2; background-color: #272822\">: </span><span style=\"background-color: #272822\">true                                                                                    </span>\n",
              "│       <span style=\"color: #f8f8f2; text-decoration-color: #f8f8f2; background-color: #272822\">  </span><span style=\"color: #f92672; text-decoration-color: #f92672; background-color: #272822\">skip_preprocess</span><span style=\"color: #f8f8f2; text-decoration-color: #f8f8f2; background-color: #272822\">: </span><span style=\"background-color: #272822\">false                                                                                   </span>\n",
              "│       <span style=\"background-color: #272822\">                                                                                                           </span>\n",
              "├── decoder_config\n",
              "│   └── <span style=\"color: #f92672; text-decoration-color: #f92672; background-color: #272822\">blocks</span><span style=\"color: #f8f8f2; text-decoration-color: #f8f8f2; background-color: #272822\">:</span><span style=\"background-color: #272822\">                                                                                                    </span>\n",
              "│       <span style=\"background-color: #272822\">-</span><span style=\"color: #f8f8f2; text-decoration-color: #f8f8f2; background-color: #272822\"> </span><span style=\"color: #f92672; text-decoration-color: #f92672; background-color: #272822\">input_dim</span><span style=\"color: #f8f8f2; text-decoration-color: #f8f8f2; background-color: #272822\">: </span><span style=\"background-color: #272822\">128                                                                                           </span>\n",
              "│       <span style=\"color: #f8f8f2; text-decoration-color: #f8f8f2; background-color: #272822\">  </span><span style=\"color: #f92672; text-decoration-color: #f92672; background-color: #272822\">pre_config</span><span style=\"color: #f8f8f2; text-decoration-color: #f8f8f2; background-color: #272822\">:</span><span style=\"background-color: #272822\">                                                                                              </span>\n",
              "│       <span style=\"color: #f8f8f2; text-decoration-color: #f8f8f2; background-color: #272822\">    </span><span style=\"color: #f92672; text-decoration-color: #f92672; background-color: #272822\">method</span><span style=\"color: #f8f8f2; text-decoration-color: #f8f8f2; background-color: #272822\">: </span><span style=\"background-color: #272822\">identity                                                                                       </span>\n",
              "│       <span style=\"color: #f8f8f2; text-decoration-color: #f8f8f2; background-color: #272822\">    </span><span style=\"color: #f92672; text-decoration-color: #f92672; background-color: #272822\">kwargs</span><span style=\"color: #f8f8f2; text-decoration-color: #f8f8f2; background-color: #272822\">: </span><span style=\"background-color: #272822\">null                                                                                           </span>\n",
              "│       <span style=\"color: #f8f8f2; text-decoration-color: #f8f8f2; background-color: #272822\">  </span><span style=\"color: #f92672; text-decoration-color: #f92672; background-color: #272822\">ssm_config</span><span style=\"color: #f8f8f2; text-decoration-color: #f8f8f2; background-color: #272822\">:</span><span style=\"background-color: #272822\">                                                                                              </span>\n",
              "│       <span style=\"color: #f8f8f2; text-decoration-color: #f8f8f2; background-color: #272822\">    </span><span style=\"color: #f92672; text-decoration-color: #f92672; background-color: #272822\">method</span><span style=\"color: #f8f8f2; text-decoration-color: #f8f8f2; background-color: #272822\">: </span><span style=\"background-color: #272822\">closed_loop_companion                                                                          </span>\n",
              "│       <span style=\"color: #f8f8f2; text-decoration-color: #f8f8f2; background-color: #272822\">    </span><span style=\"color: #f92672; text-decoration-color: #f92672; background-color: #272822\">kwargs</span><span style=\"color: #f8f8f2; text-decoration-color: #f8f8f2; background-color: #272822\">:</span><span style=\"background-color: #272822\">                                                                                                </span>\n",
              "│       <span style=\"color: #f8f8f2; text-decoration-color: #f8f8f2; background-color: #272822\">      </span><span style=\"color: #f92672; text-decoration-color: #f92672; background-color: #272822\">lag</span><span style=\"color: #f8f8f2; text-decoration-color: #f8f8f2; background-color: #272822\">: </span><span style=\"background-color: #272822\">1                                                                                               </span>\n",
              "│       <span style=\"color: #f8f8f2; text-decoration-color: #f8f8f2; background-color: #272822\">      </span><span style=\"color: #f92672; text-decoration-color: #f92672; background-color: #272822\">horizon</span><span style=\"color: #f8f8f2; text-decoration-color: #f8f8f2; background-color: #272822\">: </span><span style=\"background-color: #272822\">1                                                                                           </span>\n",
              "│       <span style=\"color: #f8f8f2; text-decoration-color: #f8f8f2; background-color: #272822\">      </span><span style=\"color: #f92672; text-decoration-color: #f92672; background-color: #272822\">model_dim</span><span style=\"color: #f8f8f2; text-decoration-color: #f8f8f2; background-color: #272822\">: </span><span style=\"background-color: #272822\">128                                                                                       </span>\n",
              "│       <span style=\"color: #f8f8f2; text-decoration-color: #f8f8f2; background-color: #272822\">      </span><span style=\"color: #f92672; text-decoration-color: #f92672; background-color: #272822\">n_kernels</span><span style=\"color: #f8f8f2; text-decoration-color: #f8f8f2; background-color: #272822\">: </span><span style=\"background-color: #272822\">128                                                                                       </span>\n",
              "│       <span style=\"color: #f8f8f2; text-decoration-color: #f8f8f2; background-color: #272822\">      </span><span style=\"color: #f92672; text-decoration-color: #f92672; background-color: #272822\">kernel_dim</span><span style=\"color: #f8f8f2; text-decoration-color: #f8f8f2; background-color: #272822\">: </span><span style=\"background-color: #272822\">64                                                                                       </span>\n",
              "│       <span style=\"color: #f8f8f2; text-decoration-color: #f8f8f2; background-color: #272822\">      </span><span style=\"color: #f92672; text-decoration-color: #f92672; background-color: #272822\">kernel_repeat</span><span style=\"color: #f8f8f2; text-decoration-color: #f8f8f2; background-color: #272822\">: </span><span style=\"background-color: #272822\">1                                                                                     </span>\n",
              "│       <span style=\"color: #f8f8f2; text-decoration-color: #f8f8f2; background-color: #272822\">      </span><span style=\"color: #f92672; text-decoration-color: #f92672; background-color: #272822\">n_heads</span><span style=\"color: #f8f8f2; text-decoration-color: #f8f8f2; background-color: #272822\">: </span><span style=\"background-color: #272822\">1                                                                                           </span>\n",
              "│       <span style=\"color: #f8f8f2; text-decoration-color: #f8f8f2; background-color: #272822\">      </span><span style=\"color: #f92672; text-decoration-color: #f92672; background-color: #272822\">head_dim</span><span style=\"color: #f8f8f2; text-decoration-color: #f8f8f2; background-color: #272822\">: </span><span style=\"background-color: #272822\">1                                                                                          </span>\n",
              "│       <span style=\"color: #f8f8f2; text-decoration-color: #f8f8f2; background-color: #272822\">      </span><span style=\"color: #f92672; text-decoration-color: #f92672; background-color: #272822\">kernel_weights</span><span style=\"color: #f8f8f2; text-decoration-color: #f8f8f2; background-color: #272822\">: </span><span style=\"background-color: #272822\">null                                                                                 </span>\n",
              "│       <span style=\"color: #f8f8f2; text-decoration-color: #f8f8f2; background-color: #272822\">      </span><span style=\"color: #f92672; text-decoration-color: #f92672; background-color: #272822\">kernel_init</span><span style=\"color: #f8f8f2; text-decoration-color: #f8f8f2; background-color: #272822\">: </span><span style=\"background-color: #272822\">normal                                                                                  </span>\n",
              "│       <span style=\"color: #f8f8f2; text-decoration-color: #f8f8f2; background-color: #272822\">      </span><span style=\"color: #f92672; text-decoration-color: #f92672; background-color: #272822\">kernel_train</span><span style=\"color: #f8f8f2; text-decoration-color: #f8f8f2; background-color: #272822\">: </span><span style=\"background-color: #272822\">true                                                                                   </span>\n",
              "│       <span style=\"color: #f8f8f2; text-decoration-color: #f8f8f2; background-color: #272822\">      </span><span style=\"color: #f92672; text-decoration-color: #f92672; background-color: #272822\">skip_connection</span><span style=\"color: #f8f8f2; text-decoration-color: #f8f8f2; background-color: #272822\">: </span><span style=\"background-color: #272822\">false                                                                               </span>\n",
              "│       <span style=\"color: #f8f8f2; text-decoration-color: #f8f8f2; background-color: #272822\">      </span><span style=\"color: #f92672; text-decoration-color: #f92672; background-color: #272822\">norm_order</span><span style=\"color: #f8f8f2; text-decoration-color: #f8f8f2; background-color: #272822\">: </span><span style=\"background-color: #272822\">1                                                                                        </span>\n",
              "│       <span style=\"color: #f8f8f2; text-decoration-color: #f8f8f2; background-color: #272822\">      </span><span style=\"color: #f92672; text-decoration-color: #f92672; background-color: #272822\">use_initial</span><span style=\"color: #f8f8f2; text-decoration-color: #f8f8f2; background-color: #272822\">: </span><span style=\"background-color: #272822\">false                                                                                   </span>\n",
              "│       <span style=\"color: #f8f8f2; text-decoration-color: #f8f8f2; background-color: #272822\">  </span><span style=\"color: #f92672; text-decoration-color: #f92672; background-color: #272822\">mlp_config</span><span style=\"color: #f8f8f2; text-decoration-color: #f8f8f2; background-color: #272822\">:</span><span style=\"background-color: #272822\">                                                                                              </span>\n",
              "│       <span style=\"color: #f8f8f2; text-decoration-color: #f8f8f2; background-color: #272822\">    </span><span style=\"color: #f92672; text-decoration-color: #f92672; background-color: #272822\">method</span><span style=\"color: #f8f8f2; text-decoration-color: #f8f8f2; background-color: #272822\">: </span><span style=\"background-color: #272822\">identity                                                                                       </span>\n",
              "│       <span style=\"color: #f8f8f2; text-decoration-color: #f8f8f2; background-color: #272822\">    </span><span style=\"color: #f92672; text-decoration-color: #f92672; background-color: #272822\">kwargs</span><span style=\"color: #f8f8f2; text-decoration-color: #f8f8f2; background-color: #272822\">: </span><span style=\"background-color: #272822\">null                                                                                           </span>\n",
              "│       <span style=\"color: #f8f8f2; text-decoration-color: #f8f8f2; background-color: #272822\">  </span><span style=\"color: #f92672; text-decoration-color: #f92672; background-color: #272822\">skip_connection</span><span style=\"color: #f8f8f2; text-decoration-color: #f8f8f2; background-color: #272822\">: </span><span style=\"background-color: #272822\">false                                                                                   </span>\n",
              "│       <span style=\"color: #f8f8f2; text-decoration-color: #f8f8f2; background-color: #272822\">  </span><span style=\"color: #f92672; text-decoration-color: #f92672; background-color: #272822\">skip_preprocess</span><span style=\"color: #f8f8f2; text-decoration-color: #f8f8f2; background-color: #272822\">: </span><span style=\"background-color: #272822\">false                                                                                   </span>\n",
              "│       <span style=\"background-color: #272822\">                                                                                                           </span>\n",
              "├── output_config\n",
              "│   └── <span style=\"color: #f92672; text-decoration-color: #f92672; background-color: #272822\">input_dim</span><span style=\"color: #f8f8f2; text-decoration-color: #f8f8f2; background-color: #272822\">: </span><span style=\"background-color: #272822\">128                                                                                             </span>\n",
              "│       <span style=\"color: #f92672; text-decoration-color: #f92672; background-color: #272822\">output_dim</span><span style=\"color: #f8f8f2; text-decoration-color: #f8f8f2; background-color: #272822\">: </span><span style=\"background-color: #272822\">1                                                                                              </span>\n",
              "│       <span style=\"color: #f92672; text-decoration-color: #f92672; background-color: #272822\">method</span><span style=\"color: #f8f8f2; text-decoration-color: #f8f8f2; background-color: #272822\">: </span><span style=\"background-color: #272822\">mlp                                                                                                </span>\n",
              "│       <span style=\"color: #f92672; text-decoration-color: #f92672; background-color: #272822\">kwargs</span><span style=\"color: #f8f8f2; text-decoration-color: #f8f8f2; background-color: #272822\">:</span><span style=\"background-color: #272822\">                                                                                                    </span>\n",
              "│       <span style=\"color: #f8f8f2; text-decoration-color: #f8f8f2; background-color: #272822\">  </span><span style=\"color: #f92672; text-decoration-color: #f92672; background-color: #272822\">input_dim</span><span style=\"color: #f8f8f2; text-decoration-color: #f8f8f2; background-color: #272822\">: </span><span style=\"background-color: #272822\">128                                                                                           </span>\n",
              "│       <span style=\"color: #f8f8f2; text-decoration-color: #f8f8f2; background-color: #272822\">  </span><span style=\"color: #f92672; text-decoration-color: #f92672; background-color: #272822\">output_dim</span><span style=\"color: #f8f8f2; text-decoration-color: #f8f8f2; background-color: #272822\">: </span><span style=\"background-color: #272822\">1                                                                                            </span>\n",
              "│       <span style=\"color: #f8f8f2; text-decoration-color: #f8f8f2; background-color: #272822\">  </span><span style=\"color: #f92672; text-decoration-color: #f92672; background-color: #272822\">activation</span><span style=\"color: #f8f8f2; text-decoration-color: #f8f8f2; background-color: #272822\">: </span><span style=\"background-color: #272822\">gelu                                                                                         </span>\n",
              "│       <span style=\"color: #f8f8f2; text-decoration-color: #f8f8f2; background-color: #272822\">  </span><span style=\"color: #f92672; text-decoration-color: #f92672; background-color: #272822\">dropout</span><span style=\"color: #f8f8f2; text-decoration-color: #f8f8f2; background-color: #272822\">: </span><span style=\"background-color: #272822\">0.2                                                                                             </span>\n",
              "│       <span style=\"color: #f8f8f2; text-decoration-color: #f8f8f2; background-color: #272822\">  </span><span style=\"color: #f92672; text-decoration-color: #f92672; background-color: #272822\">layernorm</span><span style=\"color: #f8f8f2; text-decoration-color: #f8f8f2; background-color: #272822\">: </span><span style=\"background-color: #272822\">false                                                                                         </span>\n",
              "│       <span style=\"color: #f8f8f2; text-decoration-color: #f8f8f2; background-color: #272822\">  </span><span style=\"color: #f92672; text-decoration-color: #f92672; background-color: #272822\">n_layers</span><span style=\"color: #f8f8f2; text-decoration-color: #f8f8f2; background-color: #272822\">: </span><span style=\"background-color: #272822\">1                                                                                              </span>\n",
              "│       <span style=\"color: #f8f8f2; text-decoration-color: #f8f8f2; background-color: #272822\">  </span><span style=\"color: #f92672; text-decoration-color: #f92672; background-color: #272822\">n_activations</span><span style=\"color: #f8f8f2; text-decoration-color: #f8f8f2; background-color: #272822\">: </span><span style=\"background-color: #272822\">1                                                                                         </span>\n",
              "│       <span style=\"color: #f8f8f2; text-decoration-color: #f8f8f2; background-color: #272822\">  </span><span style=\"color: #f92672; text-decoration-color: #f92672; background-color: #272822\">pre_activation</span><span style=\"color: #f8f8f2; text-decoration-color: #f8f8f2; background-color: #272822\">: </span><span style=\"background-color: #272822\">true                                                                                     </span>\n",
              "│       <span style=\"color: #f8f8f2; text-decoration-color: #f8f8f2; background-color: #272822\">  </span><span style=\"color: #f92672; text-decoration-color: #f92672; background-color: #272822\">input_shape</span><span style=\"color: #f8f8f2; text-decoration-color: #f8f8f2; background-color: #272822\">: </span><span style=\"background-color: #272822\">bld                                                                                         </span>\n",
              "│       <span style=\"color: #f8f8f2; text-decoration-color: #f8f8f2; background-color: #272822\">  </span><span style=\"color: #f92672; text-decoration-color: #f92672; background-color: #272822\">skip_connection</span><span style=\"color: #f8f8f2; text-decoration-color: #f8f8f2; background-color: #272822\">: </span><span style=\"background-color: #272822\">false                                                                                   </span>\n",
              "│       <span style=\"color: #f8f8f2; text-decoration-color: #f8f8f2; background-color: #272822\">  </span><span style=\"color: #f92672; text-decoration-color: #f92672; background-color: #272822\">average_pool</span><span style=\"color: #f8f8f2; text-decoration-color: #f8f8f2; background-color: #272822\">: </span><span style=\"background-color: #272822\">null                                                                                       </span>\n",
              "│       <span style=\"background-color: #272822\">                                                                                                           </span>\n",
              "├── lag\n",
              "│   └── <span style=\"background-color: #272822\">84                                                                                                         </span>\n",
              "└── horizon\n",
              "    └── <span style=\"background-color: #272822\">20                                                                                                         </span>\n",
              "</pre>\n"
            ],
            "text/plain": [
              "CONFIG\n",
              "├── embedding_config\n",
              "│   └── \u001b[38;2;249;38;114;48;2;39;40;34mmethod\u001b[0m\u001b[38;2;248;248;242;48;2;39;40;34m:\u001b[0m\u001b[38;2;248;248;242;48;2;39;40;34m \u001b[0m\u001b[48;2;39;40;34mrepeat\u001b[0m\u001b[48;2;39;40;34m                                                                                             \u001b[0m\n",
              "│       \u001b[38;2;249;38;114;48;2;39;40;34mkwargs\u001b[0m\u001b[38;2;248;248;242;48;2;39;40;34m:\u001b[0m\u001b[48;2;39;40;34m                                                                                                    \u001b[0m\n",
              "│       \u001b[38;2;248;248;242;48;2;39;40;34m  \u001b[0m\u001b[38;2;249;38;114;48;2;39;40;34minput_dim\u001b[0m\u001b[38;2;248;248;242;48;2;39;40;34m:\u001b[0m\u001b[38;2;248;248;242;48;2;39;40;34m \u001b[0m\u001b[48;2;39;40;34m1\u001b[0m\u001b[48;2;39;40;34m                                                                                             \u001b[0m\n",
              "│       \u001b[38;2;248;248;242;48;2;39;40;34m  \u001b[0m\u001b[38;2;249;38;114;48;2;39;40;34membedding_dim\u001b[0m\u001b[38;2;248;248;242;48;2;39;40;34m:\u001b[0m\u001b[38;2;248;248;242;48;2;39;40;34m \u001b[0m\u001b[48;2;39;40;34mnull\u001b[0m\u001b[48;2;39;40;34m                                                                                      \u001b[0m\n",
              "│       \u001b[38;2;248;248;242;48;2;39;40;34m  \u001b[0m\u001b[38;2;249;38;114;48;2;39;40;34mn_heads\u001b[0m\u001b[38;2;248;248;242;48;2;39;40;34m:\u001b[0m\u001b[38;2;248;248;242;48;2;39;40;34m \u001b[0m\u001b[48;2;39;40;34m4\u001b[0m\u001b[48;2;39;40;34m                                                                                               \u001b[0m\n",
              "│       \u001b[38;2;248;248;242;48;2;39;40;34m  \u001b[0m\u001b[38;2;249;38;114;48;2;39;40;34mn_kernels\u001b[0m\u001b[38;2;248;248;242;48;2;39;40;34m:\u001b[0m\u001b[38;2;248;248;242;48;2;39;40;34m \u001b[0m\u001b[48;2;39;40;34m32\u001b[0m\u001b[48;2;39;40;34m                                                                                            \u001b[0m\n",
              "│       \u001b[48;2;39;40;34m                                                                                                           \u001b[0m\n",
              "├── encoder_config\n",
              "│   └── \u001b[38;2;249;38;114;48;2;39;40;34mblocks\u001b[0m\u001b[38;2;248;248;242;48;2;39;40;34m:\u001b[0m\u001b[48;2;39;40;34m                                                                                                    \u001b[0m\n",
              "│       \u001b[48;2;39;40;34m-\u001b[0m\u001b[38;2;248;248;242;48;2;39;40;34m \u001b[0m\u001b[38;2;249;38;114;48;2;39;40;34minput_dim\u001b[0m\u001b[38;2;248;248;242;48;2;39;40;34m:\u001b[0m\u001b[38;2;248;248;242;48;2;39;40;34m \u001b[0m\u001b[48;2;39;40;34m128\u001b[0m\u001b[48;2;39;40;34m                                                                                           \u001b[0m\n",
              "│       \u001b[38;2;248;248;242;48;2;39;40;34m  \u001b[0m\u001b[38;2;249;38;114;48;2;39;40;34mpre_config\u001b[0m\u001b[38;2;248;248;242;48;2;39;40;34m:\u001b[0m\u001b[48;2;39;40;34m                                                                                              \u001b[0m\n",
              "│       \u001b[38;2;248;248;242;48;2;39;40;34m    \u001b[0m\u001b[38;2;249;38;114;48;2;39;40;34mmethod\u001b[0m\u001b[38;2;248;248;242;48;2;39;40;34m:\u001b[0m\u001b[38;2;248;248;242;48;2;39;40;34m \u001b[0m\u001b[48;2;39;40;34mresidual\u001b[0m\u001b[48;2;39;40;34m                                                                                       \u001b[0m\n",
              "│       \u001b[38;2;248;248;242;48;2;39;40;34m    \u001b[0m\u001b[38;2;249;38;114;48;2;39;40;34mkwargs\u001b[0m\u001b[38;2;248;248;242;48;2;39;40;34m:\u001b[0m\u001b[48;2;39;40;34m                                                                                                \u001b[0m\n",
              "│       \u001b[38;2;248;248;242;48;2;39;40;34m      \u001b[0m\u001b[38;2;249;38;114;48;2;39;40;34mmax_diff_order\u001b[0m\u001b[38;2;248;248;242;48;2;39;40;34m:\u001b[0m\u001b[38;2;248;248;242;48;2;39;40;34m \u001b[0m\u001b[48;2;39;40;34m4\u001b[0m\u001b[48;2;39;40;34m                                                                                    \u001b[0m\n",
              "│       \u001b[38;2;248;248;242;48;2;39;40;34m      \u001b[0m\u001b[38;2;249;38;114;48;2;39;40;34mmin_avg_window\u001b[0m\u001b[38;2;248;248;242;48;2;39;40;34m:\u001b[0m\u001b[38;2;248;248;242;48;2;39;40;34m \u001b[0m\u001b[48;2;39;40;34m4\u001b[0m\u001b[48;2;39;40;34m                                                                                    \u001b[0m\n",
              "│       \u001b[38;2;248;248;242;48;2;39;40;34m      \u001b[0m\u001b[38;2;249;38;114;48;2;39;40;34mmax_avg_window\u001b[0m\u001b[38;2;248;248;242;48;2;39;40;34m:\u001b[0m\u001b[38;2;248;248;242;48;2;39;40;34m \u001b[0m\u001b[48;2;39;40;34m64\u001b[0m\u001b[48;2;39;40;34m                                                                                   \u001b[0m\n",
              "│       \u001b[38;2;248;248;242;48;2;39;40;34m      \u001b[0m\u001b[38;2;249;38;114;48;2;39;40;34mmodel_dim\u001b[0m\u001b[38;2;248;248;242;48;2;39;40;34m:\u001b[0m\u001b[38;2;248;248;242;48;2;39;40;34m \u001b[0m\u001b[48;2;39;40;34m128\u001b[0m\u001b[48;2;39;40;34m                                                                                       \u001b[0m\n",
              "│       \u001b[38;2;248;248;242;48;2;39;40;34m      \u001b[0m\u001b[38;2;249;38;114;48;2;39;40;34mn_kernels\u001b[0m\u001b[38;2;248;248;242;48;2;39;40;34m:\u001b[0m\u001b[38;2;248;248;242;48;2;39;40;34m \u001b[0m\u001b[48;2;39;40;34m8\u001b[0m\u001b[48;2;39;40;34m                                                                                         \u001b[0m\n",
              "│       \u001b[38;2;248;248;242;48;2;39;40;34m      \u001b[0m\u001b[38;2;249;38;114;48;2;39;40;34mkernel_dim\u001b[0m\u001b[38;2;248;248;242;48;2;39;40;34m:\u001b[0m\u001b[38;2;248;248;242;48;2;39;40;34m \u001b[0m\u001b[48;2;39;40;34m2\u001b[0m\u001b[48;2;39;40;34m                                                                                        \u001b[0m\n",
              "│       \u001b[38;2;248;248;242;48;2;39;40;34m      \u001b[0m\u001b[38;2;249;38;114;48;2;39;40;34mkernel_repeat\u001b[0m\u001b[38;2;248;248;242;48;2;39;40;34m:\u001b[0m\u001b[38;2;248;248;242;48;2;39;40;34m \u001b[0m\u001b[48;2;39;40;34m16\u001b[0m\u001b[48;2;39;40;34m                                                                                    \u001b[0m\n",
              "│       \u001b[38;2;248;248;242;48;2;39;40;34m      \u001b[0m\u001b[38;2;249;38;114;48;2;39;40;34mn_heads\u001b[0m\u001b[38;2;248;248;242;48;2;39;40;34m:\u001b[0m\u001b[38;2;248;248;242;48;2;39;40;34m \u001b[0m\u001b[48;2;39;40;34m1\u001b[0m\u001b[48;2;39;40;34m                                                                                           \u001b[0m\n",
              "│       \u001b[38;2;248;248;242;48;2;39;40;34m      \u001b[0m\u001b[38;2;249;38;114;48;2;39;40;34mhead_dim\u001b[0m\u001b[38;2;248;248;242;48;2;39;40;34m:\u001b[0m\u001b[38;2;248;248;242;48;2;39;40;34m \u001b[0m\u001b[48;2;39;40;34m1\u001b[0m\u001b[48;2;39;40;34m                                                                                          \u001b[0m\n",
              "│       \u001b[38;2;248;248;242;48;2;39;40;34m      \u001b[0m\u001b[38;2;249;38;114;48;2;39;40;34mkernel_weights\u001b[0m\u001b[38;2;248;248;242;48;2;39;40;34m:\u001b[0m\u001b[38;2;248;248;242;48;2;39;40;34m \u001b[0m\u001b[48;2;39;40;34mnull\u001b[0m\u001b[48;2;39;40;34m                                                                                 \u001b[0m\n",
              "│       \u001b[38;2;248;248;242;48;2;39;40;34m      \u001b[0m\u001b[38;2;249;38;114;48;2;39;40;34mkernel_init\u001b[0m\u001b[38;2;248;248;242;48;2;39;40;34m:\u001b[0m\u001b[38;2;248;248;242;48;2;39;40;34m \u001b[0m\u001b[48;2;39;40;34mnull\u001b[0m\u001b[48;2;39;40;34m                                                                                    \u001b[0m\n",
              "│       \u001b[38;2;248;248;242;48;2;39;40;34m      \u001b[0m\u001b[38;2;249;38;114;48;2;39;40;34mkernel_train\u001b[0m\u001b[38;2;248;248;242;48;2;39;40;34m:\u001b[0m\u001b[38;2;248;248;242;48;2;39;40;34m \u001b[0m\u001b[48;2;39;40;34mfalse\u001b[0m\u001b[48;2;39;40;34m                                                                                  \u001b[0m\n",
              "│       \u001b[38;2;248;248;242;48;2;39;40;34m      \u001b[0m\u001b[38;2;249;38;114;48;2;39;40;34mskip_connection\u001b[0m\u001b[38;2;248;248;242;48;2;39;40;34m:\u001b[0m\u001b[38;2;248;248;242;48;2;39;40;34m \u001b[0m\u001b[48;2;39;40;34mfalse\u001b[0m\u001b[48;2;39;40;34m                                                                               \u001b[0m\n",
              "│       \u001b[38;2;248;248;242;48;2;39;40;34m  \u001b[0m\u001b[38;2;249;38;114;48;2;39;40;34mssm_config\u001b[0m\u001b[38;2;248;248;242;48;2;39;40;34m:\u001b[0m\u001b[48;2;39;40;34m                                                                                              \u001b[0m\n",
              "│       \u001b[38;2;248;248;242;48;2;39;40;34m    \u001b[0m\u001b[38;2;249;38;114;48;2;39;40;34mmethod\u001b[0m\u001b[38;2;248;248;242;48;2;39;40;34m:\u001b[0m\u001b[38;2;248;248;242;48;2;39;40;34m \u001b[0m\u001b[48;2;39;40;34mcompanion\u001b[0m\u001b[48;2;39;40;34m                                                                                      \u001b[0m\n",
              "│       \u001b[38;2;248;248;242;48;2;39;40;34m    \u001b[0m\u001b[38;2;249;38;114;48;2;39;40;34mkwargs\u001b[0m\u001b[38;2;248;248;242;48;2;39;40;34m:\u001b[0m\u001b[48;2;39;40;34m                                                                                                \u001b[0m\n",
              "│       \u001b[38;2;248;248;242;48;2;39;40;34m      \u001b[0m\u001b[38;2;249;38;114;48;2;39;40;34mmodel_dim\u001b[0m\u001b[38;2;248;248;242;48;2;39;40;34m:\u001b[0m\u001b[38;2;248;248;242;48;2;39;40;34m \u001b[0m\u001b[48;2;39;40;34m128\u001b[0m\u001b[48;2;39;40;34m                                                                                       \u001b[0m\n",
              "│       \u001b[38;2;248;248;242;48;2;39;40;34m      \u001b[0m\u001b[38;2;249;38;114;48;2;39;40;34mn_kernels\u001b[0m\u001b[38;2;248;248;242;48;2;39;40;34m:\u001b[0m\u001b[38;2;248;248;242;48;2;39;40;34m \u001b[0m\u001b[48;2;39;40;34m16\u001b[0m\u001b[48;2;39;40;34m                                                                                        \u001b[0m\n",
              "│       \u001b[38;2;248;248;242;48;2;39;40;34m      \u001b[0m\u001b[38;2;249;38;114;48;2;39;40;34mkernel_dim\u001b[0m\u001b[38;2;248;248;242;48;2;39;40;34m:\u001b[0m\u001b[38;2;248;248;242;48;2;39;40;34m \u001b[0m\u001b[48;2;39;40;34m64\u001b[0m\u001b[48;2;39;40;34m                                                                                       \u001b[0m\n",
              "│       \u001b[38;2;248;248;242;48;2;39;40;34m      \u001b[0m\u001b[38;2;249;38;114;48;2;39;40;34mkernel_repeat\u001b[0m\u001b[38;2;248;248;242;48;2;39;40;34m:\u001b[0m\u001b[38;2;248;248;242;48;2;39;40;34m \u001b[0m\u001b[48;2;39;40;34m1\u001b[0m\u001b[48;2;39;40;34m                                                                                     \u001b[0m\n",
              "│       \u001b[38;2;248;248;242;48;2;39;40;34m      \u001b[0m\u001b[38;2;249;38;114;48;2;39;40;34mn_heads\u001b[0m\u001b[38;2;248;248;242;48;2;39;40;34m:\u001b[0m\u001b[38;2;248;248;242;48;2;39;40;34m \u001b[0m\u001b[48;2;39;40;34m8\u001b[0m\u001b[48;2;39;40;34m                                                                                           \u001b[0m\n",
              "│       \u001b[38;2;248;248;242;48;2;39;40;34m      \u001b[0m\u001b[38;2;249;38;114;48;2;39;40;34mhead_dim\u001b[0m\u001b[38;2;248;248;242;48;2;39;40;34m:\u001b[0m\u001b[38;2;248;248;242;48;2;39;40;34m \u001b[0m\u001b[48;2;39;40;34m1\u001b[0m\u001b[48;2;39;40;34m                                                                                          \u001b[0m\n",
              "│       \u001b[38;2;248;248;242;48;2;39;40;34m      \u001b[0m\u001b[38;2;249;38;114;48;2;39;40;34mkernel_weights\u001b[0m\u001b[38;2;248;248;242;48;2;39;40;34m:\u001b[0m\u001b[38;2;248;248;242;48;2;39;40;34m \u001b[0m\u001b[48;2;39;40;34mnull\u001b[0m\u001b[48;2;39;40;34m                                                                                 \u001b[0m\n",
              "│       \u001b[38;2;248;248;242;48;2;39;40;34m      \u001b[0m\u001b[38;2;249;38;114;48;2;39;40;34mkernel_init\u001b[0m\u001b[38;2;248;248;242;48;2;39;40;34m:\u001b[0m\u001b[38;2;248;248;242;48;2;39;40;34m \u001b[0m\u001b[48;2;39;40;34mnormal\u001b[0m\u001b[48;2;39;40;34m                                                                                  \u001b[0m\n",
              "│       \u001b[38;2;248;248;242;48;2;39;40;34m      \u001b[0m\u001b[38;2;249;38;114;48;2;39;40;34mkernel_train\u001b[0m\u001b[38;2;248;248;242;48;2;39;40;34m:\u001b[0m\u001b[38;2;248;248;242;48;2;39;40;34m \u001b[0m\u001b[48;2;39;40;34mtrue\u001b[0m\u001b[48;2;39;40;34m                                                                                   \u001b[0m\n",
              "│       \u001b[38;2;248;248;242;48;2;39;40;34m      \u001b[0m\u001b[38;2;249;38;114;48;2;39;40;34mskip_connection\u001b[0m\u001b[38;2;248;248;242;48;2;39;40;34m:\u001b[0m\u001b[38;2;248;248;242;48;2;39;40;34m \u001b[0m\u001b[48;2;39;40;34mtrue\u001b[0m\u001b[48;2;39;40;34m                                                                                \u001b[0m\n",
              "│       \u001b[38;2;248;248;242;48;2;39;40;34m      \u001b[0m\u001b[38;2;249;38;114;48;2;39;40;34mnorm_order\u001b[0m\u001b[38;2;248;248;242;48;2;39;40;34m:\u001b[0m\u001b[38;2;248;248;242;48;2;39;40;34m \u001b[0m\u001b[48;2;39;40;34m1\u001b[0m\u001b[48;2;39;40;34m                                                                                        \u001b[0m\n",
              "│       \u001b[38;2;248;248;242;48;2;39;40;34m  \u001b[0m\u001b[38;2;249;38;114;48;2;39;40;34mmlp_config\u001b[0m\u001b[38;2;248;248;242;48;2;39;40;34m:\u001b[0m\u001b[48;2;39;40;34m                                                                                              \u001b[0m\n",
              "│       \u001b[38;2;248;248;242;48;2;39;40;34m    \u001b[0m\u001b[38;2;249;38;114;48;2;39;40;34mmethod\u001b[0m\u001b[38;2;248;248;242;48;2;39;40;34m:\u001b[0m\u001b[38;2;248;248;242;48;2;39;40;34m \u001b[0m\u001b[48;2;39;40;34mmlp\u001b[0m\u001b[48;2;39;40;34m                                                                                            \u001b[0m\n",
              "│       \u001b[38;2;248;248;242;48;2;39;40;34m    \u001b[0m\u001b[38;2;249;38;114;48;2;39;40;34mkwargs\u001b[0m\u001b[38;2;248;248;242;48;2;39;40;34m:\u001b[0m\u001b[48;2;39;40;34m                                                                                                \u001b[0m\n",
              "│       \u001b[38;2;248;248;242;48;2;39;40;34m      \u001b[0m\u001b[38;2;249;38;114;48;2;39;40;34minput_dim\u001b[0m\u001b[38;2;248;248;242;48;2;39;40;34m:\u001b[0m\u001b[38;2;248;248;242;48;2;39;40;34m \u001b[0m\u001b[48;2;39;40;34m128\u001b[0m\u001b[48;2;39;40;34m                                                                                       \u001b[0m\n",
              "│       \u001b[38;2;248;248;242;48;2;39;40;34m      \u001b[0m\u001b[38;2;249;38;114;48;2;39;40;34moutput_dim\u001b[0m\u001b[38;2;248;248;242;48;2;39;40;34m:\u001b[0m\u001b[38;2;248;248;242;48;2;39;40;34m \u001b[0m\u001b[48;2;39;40;34m128\u001b[0m\u001b[48;2;39;40;34m                                                                                      \u001b[0m\n",
              "│       \u001b[38;2;248;248;242;48;2;39;40;34m      \u001b[0m\u001b[38;2;249;38;114;48;2;39;40;34mactivation\u001b[0m\u001b[38;2;248;248;242;48;2;39;40;34m:\u001b[0m\u001b[38;2;248;248;242;48;2;39;40;34m \u001b[0m\u001b[48;2;39;40;34mgelu\u001b[0m\u001b[48;2;39;40;34m                                                                                     \u001b[0m\n",
              "│       \u001b[38;2;248;248;242;48;2;39;40;34m      \u001b[0m\u001b[38;2;249;38;114;48;2;39;40;34mdropout\u001b[0m\u001b[38;2;248;248;242;48;2;39;40;34m:\u001b[0m\u001b[38;2;248;248;242;48;2;39;40;34m \u001b[0m\u001b[48;2;39;40;34m0.2\u001b[0m\u001b[48;2;39;40;34m                                                                                         \u001b[0m\n",
              "│       \u001b[38;2;248;248;242;48;2;39;40;34m      \u001b[0m\u001b[38;2;249;38;114;48;2;39;40;34mlayernorm\u001b[0m\u001b[38;2;248;248;242;48;2;39;40;34m:\u001b[0m\u001b[38;2;248;248;242;48;2;39;40;34m \u001b[0m\u001b[48;2;39;40;34mfalse\u001b[0m\u001b[48;2;39;40;34m                                                                                     \u001b[0m\n",
              "│       \u001b[38;2;248;248;242;48;2;39;40;34m      \u001b[0m\u001b[38;2;249;38;114;48;2;39;40;34mn_layers\u001b[0m\u001b[38;2;248;248;242;48;2;39;40;34m:\u001b[0m\u001b[38;2;248;248;242;48;2;39;40;34m \u001b[0m\u001b[48;2;39;40;34m1\u001b[0m\u001b[48;2;39;40;34m                                                                                          \u001b[0m\n",
              "│       \u001b[38;2;248;248;242;48;2;39;40;34m      \u001b[0m\u001b[38;2;249;38;114;48;2;39;40;34mn_activations\u001b[0m\u001b[38;2;248;248;242;48;2;39;40;34m:\u001b[0m\u001b[38;2;248;248;242;48;2;39;40;34m \u001b[0m\u001b[48;2;39;40;34m1\u001b[0m\u001b[48;2;39;40;34m                                                                                     \u001b[0m\n",
              "│       \u001b[38;2;248;248;242;48;2;39;40;34m      \u001b[0m\u001b[38;2;249;38;114;48;2;39;40;34mpre_activation\u001b[0m\u001b[38;2;248;248;242;48;2;39;40;34m:\u001b[0m\u001b[38;2;248;248;242;48;2;39;40;34m \u001b[0m\u001b[48;2;39;40;34mtrue\u001b[0m\u001b[48;2;39;40;34m                                                                                 \u001b[0m\n",
              "│       \u001b[38;2;248;248;242;48;2;39;40;34m      \u001b[0m\u001b[38;2;249;38;114;48;2;39;40;34minput_shape\u001b[0m\u001b[38;2;248;248;242;48;2;39;40;34m:\u001b[0m\u001b[38;2;248;248;242;48;2;39;40;34m \u001b[0m\u001b[48;2;39;40;34mbld\u001b[0m\u001b[48;2;39;40;34m                                                                                     \u001b[0m\n",
              "│       \u001b[38;2;248;248;242;48;2;39;40;34m      \u001b[0m\u001b[38;2;249;38;114;48;2;39;40;34mskip_connection\u001b[0m\u001b[38;2;248;248;242;48;2;39;40;34m:\u001b[0m\u001b[38;2;248;248;242;48;2;39;40;34m \u001b[0m\u001b[48;2;39;40;34mtrue\u001b[0m\u001b[48;2;39;40;34m                                                                                \u001b[0m\n",
              "│       \u001b[38;2;248;248;242;48;2;39;40;34m      \u001b[0m\u001b[38;2;249;38;114;48;2;39;40;34maverage_pool\u001b[0m\u001b[38;2;248;248;242;48;2;39;40;34m:\u001b[0m\u001b[38;2;248;248;242;48;2;39;40;34m \u001b[0m\u001b[48;2;39;40;34mnull\u001b[0m\u001b[48;2;39;40;34m                                                                                   \u001b[0m\n",
              "│       \u001b[38;2;248;248;242;48;2;39;40;34m  \u001b[0m\u001b[38;2;249;38;114;48;2;39;40;34mskip_connection\u001b[0m\u001b[38;2;248;248;242;48;2;39;40;34m:\u001b[0m\u001b[38;2;248;248;242;48;2;39;40;34m \u001b[0m\u001b[48;2;39;40;34mtrue\u001b[0m\u001b[48;2;39;40;34m                                                                                    \u001b[0m\n",
              "│       \u001b[38;2;248;248;242;48;2;39;40;34m  \u001b[0m\u001b[38;2;249;38;114;48;2;39;40;34mskip_preprocess\u001b[0m\u001b[38;2;248;248;242;48;2;39;40;34m:\u001b[0m\u001b[38;2;248;248;242;48;2;39;40;34m \u001b[0m\u001b[48;2;39;40;34mfalse\u001b[0m\u001b[48;2;39;40;34m                                                                                   \u001b[0m\n",
              "│       \u001b[48;2;39;40;34m                                                                                                           \u001b[0m\n",
              "├── decoder_config\n",
              "│   └── \u001b[38;2;249;38;114;48;2;39;40;34mblocks\u001b[0m\u001b[38;2;248;248;242;48;2;39;40;34m:\u001b[0m\u001b[48;2;39;40;34m                                                                                                    \u001b[0m\n",
              "│       \u001b[48;2;39;40;34m-\u001b[0m\u001b[38;2;248;248;242;48;2;39;40;34m \u001b[0m\u001b[38;2;249;38;114;48;2;39;40;34minput_dim\u001b[0m\u001b[38;2;248;248;242;48;2;39;40;34m:\u001b[0m\u001b[38;2;248;248;242;48;2;39;40;34m \u001b[0m\u001b[48;2;39;40;34m128\u001b[0m\u001b[48;2;39;40;34m                                                                                           \u001b[0m\n",
              "│       \u001b[38;2;248;248;242;48;2;39;40;34m  \u001b[0m\u001b[38;2;249;38;114;48;2;39;40;34mpre_config\u001b[0m\u001b[38;2;248;248;242;48;2;39;40;34m:\u001b[0m\u001b[48;2;39;40;34m                                                                                              \u001b[0m\n",
              "│       \u001b[38;2;248;248;242;48;2;39;40;34m    \u001b[0m\u001b[38;2;249;38;114;48;2;39;40;34mmethod\u001b[0m\u001b[38;2;248;248;242;48;2;39;40;34m:\u001b[0m\u001b[38;2;248;248;242;48;2;39;40;34m \u001b[0m\u001b[48;2;39;40;34midentity\u001b[0m\u001b[48;2;39;40;34m                                                                                       \u001b[0m\n",
              "│       \u001b[38;2;248;248;242;48;2;39;40;34m    \u001b[0m\u001b[38;2;249;38;114;48;2;39;40;34mkwargs\u001b[0m\u001b[38;2;248;248;242;48;2;39;40;34m:\u001b[0m\u001b[38;2;248;248;242;48;2;39;40;34m \u001b[0m\u001b[48;2;39;40;34mnull\u001b[0m\u001b[48;2;39;40;34m                                                                                           \u001b[0m\n",
              "│       \u001b[38;2;248;248;242;48;2;39;40;34m  \u001b[0m\u001b[38;2;249;38;114;48;2;39;40;34mssm_config\u001b[0m\u001b[38;2;248;248;242;48;2;39;40;34m:\u001b[0m\u001b[48;2;39;40;34m                                                                                              \u001b[0m\n",
              "│       \u001b[38;2;248;248;242;48;2;39;40;34m    \u001b[0m\u001b[38;2;249;38;114;48;2;39;40;34mmethod\u001b[0m\u001b[38;2;248;248;242;48;2;39;40;34m:\u001b[0m\u001b[38;2;248;248;242;48;2;39;40;34m \u001b[0m\u001b[48;2;39;40;34mclosed_loop_companion\u001b[0m\u001b[48;2;39;40;34m                                                                          \u001b[0m\n",
              "│       \u001b[38;2;248;248;242;48;2;39;40;34m    \u001b[0m\u001b[38;2;249;38;114;48;2;39;40;34mkwargs\u001b[0m\u001b[38;2;248;248;242;48;2;39;40;34m:\u001b[0m\u001b[48;2;39;40;34m                                                                                                \u001b[0m\n",
              "│       \u001b[38;2;248;248;242;48;2;39;40;34m      \u001b[0m\u001b[38;2;249;38;114;48;2;39;40;34mlag\u001b[0m\u001b[38;2;248;248;242;48;2;39;40;34m:\u001b[0m\u001b[38;2;248;248;242;48;2;39;40;34m \u001b[0m\u001b[48;2;39;40;34m1\u001b[0m\u001b[48;2;39;40;34m                                                                                               \u001b[0m\n",
              "│       \u001b[38;2;248;248;242;48;2;39;40;34m      \u001b[0m\u001b[38;2;249;38;114;48;2;39;40;34mhorizon\u001b[0m\u001b[38;2;248;248;242;48;2;39;40;34m:\u001b[0m\u001b[38;2;248;248;242;48;2;39;40;34m \u001b[0m\u001b[48;2;39;40;34m1\u001b[0m\u001b[48;2;39;40;34m                                                                                           \u001b[0m\n",
              "│       \u001b[38;2;248;248;242;48;2;39;40;34m      \u001b[0m\u001b[38;2;249;38;114;48;2;39;40;34mmodel_dim\u001b[0m\u001b[38;2;248;248;242;48;2;39;40;34m:\u001b[0m\u001b[38;2;248;248;242;48;2;39;40;34m \u001b[0m\u001b[48;2;39;40;34m128\u001b[0m\u001b[48;2;39;40;34m                                                                                       \u001b[0m\n",
              "│       \u001b[38;2;248;248;242;48;2;39;40;34m      \u001b[0m\u001b[38;2;249;38;114;48;2;39;40;34mn_kernels\u001b[0m\u001b[38;2;248;248;242;48;2;39;40;34m:\u001b[0m\u001b[38;2;248;248;242;48;2;39;40;34m \u001b[0m\u001b[48;2;39;40;34m128\u001b[0m\u001b[48;2;39;40;34m                                                                                       \u001b[0m\n",
              "│       \u001b[38;2;248;248;242;48;2;39;40;34m      \u001b[0m\u001b[38;2;249;38;114;48;2;39;40;34mkernel_dim\u001b[0m\u001b[38;2;248;248;242;48;2;39;40;34m:\u001b[0m\u001b[38;2;248;248;242;48;2;39;40;34m \u001b[0m\u001b[48;2;39;40;34m64\u001b[0m\u001b[48;2;39;40;34m                                                                                       \u001b[0m\n",
              "│       \u001b[38;2;248;248;242;48;2;39;40;34m      \u001b[0m\u001b[38;2;249;38;114;48;2;39;40;34mkernel_repeat\u001b[0m\u001b[38;2;248;248;242;48;2;39;40;34m:\u001b[0m\u001b[38;2;248;248;242;48;2;39;40;34m \u001b[0m\u001b[48;2;39;40;34m1\u001b[0m\u001b[48;2;39;40;34m                                                                                     \u001b[0m\n",
              "│       \u001b[38;2;248;248;242;48;2;39;40;34m      \u001b[0m\u001b[38;2;249;38;114;48;2;39;40;34mn_heads\u001b[0m\u001b[38;2;248;248;242;48;2;39;40;34m:\u001b[0m\u001b[38;2;248;248;242;48;2;39;40;34m \u001b[0m\u001b[48;2;39;40;34m1\u001b[0m\u001b[48;2;39;40;34m                                                                                           \u001b[0m\n",
              "│       \u001b[38;2;248;248;242;48;2;39;40;34m      \u001b[0m\u001b[38;2;249;38;114;48;2;39;40;34mhead_dim\u001b[0m\u001b[38;2;248;248;242;48;2;39;40;34m:\u001b[0m\u001b[38;2;248;248;242;48;2;39;40;34m \u001b[0m\u001b[48;2;39;40;34m1\u001b[0m\u001b[48;2;39;40;34m                                                                                          \u001b[0m\n",
              "│       \u001b[38;2;248;248;242;48;2;39;40;34m      \u001b[0m\u001b[38;2;249;38;114;48;2;39;40;34mkernel_weights\u001b[0m\u001b[38;2;248;248;242;48;2;39;40;34m:\u001b[0m\u001b[38;2;248;248;242;48;2;39;40;34m \u001b[0m\u001b[48;2;39;40;34mnull\u001b[0m\u001b[48;2;39;40;34m                                                                                 \u001b[0m\n",
              "│       \u001b[38;2;248;248;242;48;2;39;40;34m      \u001b[0m\u001b[38;2;249;38;114;48;2;39;40;34mkernel_init\u001b[0m\u001b[38;2;248;248;242;48;2;39;40;34m:\u001b[0m\u001b[38;2;248;248;242;48;2;39;40;34m \u001b[0m\u001b[48;2;39;40;34mnormal\u001b[0m\u001b[48;2;39;40;34m                                                                                  \u001b[0m\n",
              "│       \u001b[38;2;248;248;242;48;2;39;40;34m      \u001b[0m\u001b[38;2;249;38;114;48;2;39;40;34mkernel_train\u001b[0m\u001b[38;2;248;248;242;48;2;39;40;34m:\u001b[0m\u001b[38;2;248;248;242;48;2;39;40;34m \u001b[0m\u001b[48;2;39;40;34mtrue\u001b[0m\u001b[48;2;39;40;34m                                                                                   \u001b[0m\n",
              "│       \u001b[38;2;248;248;242;48;2;39;40;34m      \u001b[0m\u001b[38;2;249;38;114;48;2;39;40;34mskip_connection\u001b[0m\u001b[38;2;248;248;242;48;2;39;40;34m:\u001b[0m\u001b[38;2;248;248;242;48;2;39;40;34m \u001b[0m\u001b[48;2;39;40;34mfalse\u001b[0m\u001b[48;2;39;40;34m                                                                               \u001b[0m\n",
              "│       \u001b[38;2;248;248;242;48;2;39;40;34m      \u001b[0m\u001b[38;2;249;38;114;48;2;39;40;34mnorm_order\u001b[0m\u001b[38;2;248;248;242;48;2;39;40;34m:\u001b[0m\u001b[38;2;248;248;242;48;2;39;40;34m \u001b[0m\u001b[48;2;39;40;34m1\u001b[0m\u001b[48;2;39;40;34m                                                                                        \u001b[0m\n",
              "│       \u001b[38;2;248;248;242;48;2;39;40;34m      \u001b[0m\u001b[38;2;249;38;114;48;2;39;40;34muse_initial\u001b[0m\u001b[38;2;248;248;242;48;2;39;40;34m:\u001b[0m\u001b[38;2;248;248;242;48;2;39;40;34m \u001b[0m\u001b[48;2;39;40;34mfalse\u001b[0m\u001b[48;2;39;40;34m                                                                                   \u001b[0m\n",
              "│       \u001b[38;2;248;248;242;48;2;39;40;34m  \u001b[0m\u001b[38;2;249;38;114;48;2;39;40;34mmlp_config\u001b[0m\u001b[38;2;248;248;242;48;2;39;40;34m:\u001b[0m\u001b[48;2;39;40;34m                                                                                              \u001b[0m\n",
              "│       \u001b[38;2;248;248;242;48;2;39;40;34m    \u001b[0m\u001b[38;2;249;38;114;48;2;39;40;34mmethod\u001b[0m\u001b[38;2;248;248;242;48;2;39;40;34m:\u001b[0m\u001b[38;2;248;248;242;48;2;39;40;34m \u001b[0m\u001b[48;2;39;40;34midentity\u001b[0m\u001b[48;2;39;40;34m                                                                                       \u001b[0m\n",
              "│       \u001b[38;2;248;248;242;48;2;39;40;34m    \u001b[0m\u001b[38;2;249;38;114;48;2;39;40;34mkwargs\u001b[0m\u001b[38;2;248;248;242;48;2;39;40;34m:\u001b[0m\u001b[38;2;248;248;242;48;2;39;40;34m \u001b[0m\u001b[48;2;39;40;34mnull\u001b[0m\u001b[48;2;39;40;34m                                                                                           \u001b[0m\n",
              "│       \u001b[38;2;248;248;242;48;2;39;40;34m  \u001b[0m\u001b[38;2;249;38;114;48;2;39;40;34mskip_connection\u001b[0m\u001b[38;2;248;248;242;48;2;39;40;34m:\u001b[0m\u001b[38;2;248;248;242;48;2;39;40;34m \u001b[0m\u001b[48;2;39;40;34mfalse\u001b[0m\u001b[48;2;39;40;34m                                                                                   \u001b[0m\n",
              "│       \u001b[38;2;248;248;242;48;2;39;40;34m  \u001b[0m\u001b[38;2;249;38;114;48;2;39;40;34mskip_preprocess\u001b[0m\u001b[38;2;248;248;242;48;2;39;40;34m:\u001b[0m\u001b[38;2;248;248;242;48;2;39;40;34m \u001b[0m\u001b[48;2;39;40;34mfalse\u001b[0m\u001b[48;2;39;40;34m                                                                                   \u001b[0m\n",
              "│       \u001b[48;2;39;40;34m                                                                                                           \u001b[0m\n",
              "├── output_config\n",
              "│   └── \u001b[38;2;249;38;114;48;2;39;40;34minput_dim\u001b[0m\u001b[38;2;248;248;242;48;2;39;40;34m:\u001b[0m\u001b[38;2;248;248;242;48;2;39;40;34m \u001b[0m\u001b[48;2;39;40;34m128\u001b[0m\u001b[48;2;39;40;34m                                                                                             \u001b[0m\n",
              "│       \u001b[38;2;249;38;114;48;2;39;40;34moutput_dim\u001b[0m\u001b[38;2;248;248;242;48;2;39;40;34m:\u001b[0m\u001b[38;2;248;248;242;48;2;39;40;34m \u001b[0m\u001b[48;2;39;40;34m1\u001b[0m\u001b[48;2;39;40;34m                                                                                              \u001b[0m\n",
              "│       \u001b[38;2;249;38;114;48;2;39;40;34mmethod\u001b[0m\u001b[38;2;248;248;242;48;2;39;40;34m:\u001b[0m\u001b[38;2;248;248;242;48;2;39;40;34m \u001b[0m\u001b[48;2;39;40;34mmlp\u001b[0m\u001b[48;2;39;40;34m                                                                                                \u001b[0m\n",
              "│       \u001b[38;2;249;38;114;48;2;39;40;34mkwargs\u001b[0m\u001b[38;2;248;248;242;48;2;39;40;34m:\u001b[0m\u001b[48;2;39;40;34m                                                                                                    \u001b[0m\n",
              "│       \u001b[38;2;248;248;242;48;2;39;40;34m  \u001b[0m\u001b[38;2;249;38;114;48;2;39;40;34minput_dim\u001b[0m\u001b[38;2;248;248;242;48;2;39;40;34m:\u001b[0m\u001b[38;2;248;248;242;48;2;39;40;34m \u001b[0m\u001b[48;2;39;40;34m128\u001b[0m\u001b[48;2;39;40;34m                                                                                           \u001b[0m\n",
              "│       \u001b[38;2;248;248;242;48;2;39;40;34m  \u001b[0m\u001b[38;2;249;38;114;48;2;39;40;34moutput_dim\u001b[0m\u001b[38;2;248;248;242;48;2;39;40;34m:\u001b[0m\u001b[38;2;248;248;242;48;2;39;40;34m \u001b[0m\u001b[48;2;39;40;34m1\u001b[0m\u001b[48;2;39;40;34m                                                                                            \u001b[0m\n",
              "│       \u001b[38;2;248;248;242;48;2;39;40;34m  \u001b[0m\u001b[38;2;249;38;114;48;2;39;40;34mactivation\u001b[0m\u001b[38;2;248;248;242;48;2;39;40;34m:\u001b[0m\u001b[38;2;248;248;242;48;2;39;40;34m \u001b[0m\u001b[48;2;39;40;34mgelu\u001b[0m\u001b[48;2;39;40;34m                                                                                         \u001b[0m\n",
              "│       \u001b[38;2;248;248;242;48;2;39;40;34m  \u001b[0m\u001b[38;2;249;38;114;48;2;39;40;34mdropout\u001b[0m\u001b[38;2;248;248;242;48;2;39;40;34m:\u001b[0m\u001b[38;2;248;248;242;48;2;39;40;34m \u001b[0m\u001b[48;2;39;40;34m0.2\u001b[0m\u001b[48;2;39;40;34m                                                                                             \u001b[0m\n",
              "│       \u001b[38;2;248;248;242;48;2;39;40;34m  \u001b[0m\u001b[38;2;249;38;114;48;2;39;40;34mlayernorm\u001b[0m\u001b[38;2;248;248;242;48;2;39;40;34m:\u001b[0m\u001b[38;2;248;248;242;48;2;39;40;34m \u001b[0m\u001b[48;2;39;40;34mfalse\u001b[0m\u001b[48;2;39;40;34m                                                                                         \u001b[0m\n",
              "│       \u001b[38;2;248;248;242;48;2;39;40;34m  \u001b[0m\u001b[38;2;249;38;114;48;2;39;40;34mn_layers\u001b[0m\u001b[38;2;248;248;242;48;2;39;40;34m:\u001b[0m\u001b[38;2;248;248;242;48;2;39;40;34m \u001b[0m\u001b[48;2;39;40;34m1\u001b[0m\u001b[48;2;39;40;34m                                                                                              \u001b[0m\n",
              "│       \u001b[38;2;248;248;242;48;2;39;40;34m  \u001b[0m\u001b[38;2;249;38;114;48;2;39;40;34mn_activations\u001b[0m\u001b[38;2;248;248;242;48;2;39;40;34m:\u001b[0m\u001b[38;2;248;248;242;48;2;39;40;34m \u001b[0m\u001b[48;2;39;40;34m1\u001b[0m\u001b[48;2;39;40;34m                                                                                         \u001b[0m\n",
              "│       \u001b[38;2;248;248;242;48;2;39;40;34m  \u001b[0m\u001b[38;2;249;38;114;48;2;39;40;34mpre_activation\u001b[0m\u001b[38;2;248;248;242;48;2;39;40;34m:\u001b[0m\u001b[38;2;248;248;242;48;2;39;40;34m \u001b[0m\u001b[48;2;39;40;34mtrue\u001b[0m\u001b[48;2;39;40;34m                                                                                     \u001b[0m\n",
              "│       \u001b[38;2;248;248;242;48;2;39;40;34m  \u001b[0m\u001b[38;2;249;38;114;48;2;39;40;34minput_shape\u001b[0m\u001b[38;2;248;248;242;48;2;39;40;34m:\u001b[0m\u001b[38;2;248;248;242;48;2;39;40;34m \u001b[0m\u001b[48;2;39;40;34mbld\u001b[0m\u001b[48;2;39;40;34m                                                                                         \u001b[0m\n",
              "│       \u001b[38;2;248;248;242;48;2;39;40;34m  \u001b[0m\u001b[38;2;249;38;114;48;2;39;40;34mskip_connection\u001b[0m\u001b[38;2;248;248;242;48;2;39;40;34m:\u001b[0m\u001b[38;2;248;248;242;48;2;39;40;34m \u001b[0m\u001b[48;2;39;40;34mfalse\u001b[0m\u001b[48;2;39;40;34m                                                                                   \u001b[0m\n",
              "│       \u001b[38;2;248;248;242;48;2;39;40;34m  \u001b[0m\u001b[38;2;249;38;114;48;2;39;40;34maverage_pool\u001b[0m\u001b[38;2;248;248;242;48;2;39;40;34m:\u001b[0m\u001b[38;2;248;248;242;48;2;39;40;34m \u001b[0m\u001b[48;2;39;40;34mnull\u001b[0m\u001b[48;2;39;40;34m                                                                                       \u001b[0m\n",
              "│       \u001b[48;2;39;40;34m                                                                                                           \u001b[0m\n",
              "├── lag\n",
              "│   └── \u001b[48;2;39;40;34m84\u001b[0m\u001b[48;2;39;40;34m                                                                                                         \u001b[0m\n",
              "└── horizon\n",
              "    └── \u001b[48;2;39;40;34m20\u001b[0m\u001b[48;2;39;40;34m                                                                                                         \u001b[0m\n"
            ]
          },
          "metadata": {},
          "output_type": "display_data"
        }
      ],
      "source": [
        "print_config(model_configs)  # OmegaConf config view \n",
        "# (This might render as black text, not that useful here rip)"
      ]
    },
    {
      "cell_type": "markdown",
      "metadata": {
        "id": "iztnLiKi_Ud3"
      },
      "source": [
        "### Part 1.3 SpaceTime Model Training\n",
        "\n",
        "We'll now specify the training configs and train our model"
      ]
    },
    {
      "cell_type": "code",
      "execution_count": null,
      "metadata": {
        "colab": {
          "background_save": true
        },
        "id": "WuExT59c_t92"
      },
      "outputs": [],
      "source": [
        "from loss import get_loss\n",
        "from data_transforms import get_data_transforms\n",
        "from optimizer import get_optimizer, get_scheduler\n",
        "from setup.configs.optimizer import get_optimizer_config, get_scheduler_config\n",
        "\n",
        "from train import train_model, evaluate_model, plot_forecasts"
      ]
    },
    {
      "cell_type": "markdown",
      "metadata": {
        "id": "TM8UWGrW_vw7"
      },
      "source": [
        "#### Specify training args"
      ]
    },
    {
      "cell_type": "code",
      "execution_count": null,
      "metadata": {
        "colab": {
          "background_save": true
        },
        "id": "tyBgrGJP_zFN"
      },
      "outputs": [],
      "source": [
        "# Hacky training args, see the README or /spacetime/setup/args.py for details\n",
        "arg_config = f\"\"\"\n",
        "lag: {dataset_configs.lag}\n",
        "horizon: {dataset_configs.horizon}\n",
        "features: S\n",
        "lr: 1e-3\n",
        "weight_decay: 1e-4\n",
        "dropout: 0.25\n",
        "criterion_weights:\n",
        "- 10\n",
        "- 1\n",
        "- 10\n",
        "optimizer: adamw\n",
        "scheduler: timm_cosine\n",
        "max_epochs: 500\n",
        "early_stopping_epochs: 20\n",
        "data_transform: mean\n",
        "loss: informer_rmse\n",
        "val_metric: informer_rmse\n",
        "seed: 42\n",
        "dataset: sp500\n",
        "variant: null\n",
        "model: SpaceTime\n",
        "\"\"\"\n",
        "class Args():\n",
        "    def __init__(self, args):\n",
        "        for k, v in args.items():\n",
        "            setattr(self, k, v)\n",
        "            \n",
        "args = Args(OmegaConf.create(arg_config))\n",
        "# GPU\n",
        "args.device = torch.device('cuda:0') if torch.cuda.is_available else torch.device('cpu')\n",
        "\n",
        "# These others are not super important\n",
        "args.checkpoint_dir = './checkpoints'\n",
        "args.log_dir = './log_dir'\n",
        "args.variant = None\n",
        "args.no_wandb = True\n",
        "args.dataset_type = 'informer'  # for standard forecasting\n",
        "args.log_epoch = 1000"
      ]
    },
    {
      "cell_type": "code",
      "execution_count": null,
      "metadata": {
        "colab": {
          "background_save": true
        },
        "id": "Eseh10rqHjEV",
        "outputId": "fd5d5f44-7b62-42cc-ed79-db84c73c1f82"
      },
      "outputs": [
        {
          "data": {
            "text/plain": [
              "[10, 1, 10]"
            ]
          },
          "execution_count": 44,
          "metadata": {},
          "output_type": "execute_result"
        }
      ],
      "source": [
        "args.criterion_weights"
      ]
    },
    {
      "cell_type": "markdown",
      "metadata": {
        "id": "pqWtvcknAOFo"
      },
      "source": [
        "#### Initialize optimizer, scheduler, criterions, data transforms"
      ]
    },
    {
      "cell_type": "code",
      "execution_count": null,
      "metadata": {
        "colab": {
          "background_save": true
        },
        "id": "3pQl2LLLASMA"
      },
      "outputs": [],
      "source": [
        "seed_everything(args.seed)\n",
        "model = SpaceTime(**model_configs)  # Reset model from here\n",
        "\n",
        "model.set_lag(args.lag)\n",
        "model.set_horizon(args.horizon)\n",
        "    \n",
        "# Initialize optimizer and scheduler\n",
        "optimizer = get_optimizer(model, get_optimizer_config(args, config_dir))\n",
        "scheduler = get_scheduler(model, optimizer, get_scheduler_config(args, config_dir))\n",
        "    \n",
        "# Loss objectives\n",
        "criterions = {name: get_loss(name) for name in ['rmse', 'mse', 'mae']}\n",
        "eval_criterions = criterions\n",
        "for name in ['rmse', 'mse', 'mae']:\n",
        "    eval_criterions[f'informer_{name}'] = get_loss(f'informer_{name}')\n",
        "    \n",
        "# Data transforms, e.g., normalization\n",
        "input_transform, output_transform = get_data_transforms(args.data_transform, args.lag)"
      ]
    },
    {
      "cell_type": "markdown",
      "metadata": {
        "id": "41zsrbKaAaBR"
      },
      "source": [
        "#### Train model"
      ]
    },
    {
      "cell_type": "code",
      "execution_count": null,
      "metadata": {
        "colab": {
          "background_save": true
        },
        "id": "TJgXR7OaBGUm"
      },
      "outputs": [],
      "source": [
        "from setup import initialize_experiment"
      ]
    },
    {
      "cell_type": "code",
      "execution_count": null,
      "metadata": {
        "colab": {
          "background_save": true
        },
        "id": "_ry4JyUhBPXJ",
        "outputId": "5c182de5-24f3-4bb8-b0cf-38f08c07f72c"
      },
      "outputs": [
        {
          "name": "stdout",
          "output_type": "stream",
          "text": [
            "-> Created model checkpoint saving directory at ./checkpoints/sp500!\n",
            "-> Created logging directory at ./log_dir/spacetime-d=sp500-f=S-horizon=20!\n"
          ]
        }
      ],
      "source": [
        "initialize_experiment(args, experiment_name_id='',\n",
        "                      best_train_metric=1e10, \n",
        "                      best_val_metric=1e10)"
      ]
    },
    {
      "cell_type": "code",
      "execution_count": null,
      "metadata": {
        "colab": {
          "background_save": true,
          "base_uri": "https://localhost:8080/",
          "height": 35,
          "referenced_widgets": [
            "ca4078a6949244b588b9b9dfdca899fc"
          ]
        },
        "id": "q6oFbI4BBP7z",
        "outputId": "4d370919-9e81-4a3b-d34b-223087c039c4"
      },
      "outputs": [
        {
          "data": {
            "application/vnd.jupyter.widget-view+json": {
              "model_id": "ca4078a6949244b588b9b9dfdca899fc",
              "version_major": 2,
              "version_minor": 0
            },
            "text/plain": [
              "  0%|          | 0/500 [00:00<?, ?it/s]"
            ]
          },
          "metadata": {},
          "output_type": "display_data"
        },
        {
          "name": "stdout",
          "output_type": "stream",
          "text": [
            "Early stopping at epoch 32...\n",
            "-> Saved best val model checkpoint at epoch 12!\n",
            "   - Saved to: ./checkpoints/sp500/bval-m=SpaceTime-la=84-ho=20-fe=S-dt=mean-cw=1+1+1-lo=ir-dr=0.25-lr=0.001-op=adamw-sc=tc-wd=0.0001-vm=ir-me=500-ese=20-se=42.pth\n",
            "-> Saved best train model checkpoint at epoch 32!\n",
            "   - Saved to: ./checkpoints/sp500/btrn-m=SpaceTime-la=84-ho=20-fe=S-dt=mean-cw=1+1+1-lo=ir-dr=0.25-lr=0.001-op=adamw-sc=tc-wd=0.0001-vm=ir-me=500-ese=20-se=42.pth\n",
            "Returning best val model from epoch 12\n"
          ]
        }
      ],
      "source": [
        "# Actually train model\n",
        "splits = ['train', 'val', 'test']\n",
        "dataloaders_by_split = {split: dataloaders[ix] \n",
        "                        for ix, split in enumerate(splits)}\n",
        "\n",
        "model = train_model(model, optimizer, scheduler, dataloaders_by_split, \n",
        "                    criterions, max_epochs=args.max_epochs, config=args, \n",
        "                    input_transform=input_transform,\n",
        "                    output_transform=output_transform,\n",
        "                    val_metric=args.val_metric, wandb=None, \n",
        "                    return_best=True, early_stopping_epochs=args.early_stopping_epochs) "
      ]
    },
    {
      "cell_type": "markdown",
      "metadata": {
        "id": "DSkT1TFlCUgU"
      },
      "source": [
        "### Evaluate model"
      ]
    },
    {
      "cell_type": "code",
      "execution_count": null,
      "metadata": {
        "colab": {
          "background_save": true
        },
        "id": "eagNfO7ACX1a"
      },
      "outputs": [],
      "source": [
        "from dataloaders import get_evaluation_loaders\n",
        "from train.evaluate import plot_forecasts"
      ]
    },
    {
      "cell_type": "code",
      "execution_count": null,
      "metadata": {
        "colab": {
          "background_save": true
        },
        "id": "85EfPo5hG9W7",
        "outputId": "3aabceb8-8ba5-462b-9ec6-877185a72998"
      },
      "outputs": [
        {
          "name": "stdout",
          "output_type": "stream",
          "text": [
            "-----------------------------------------\n",
            "Best validation model: eval_train metrics\n",
            "-----------------------------------------\n",
            "- total: 125080.0\n",
            "- rmse: 1.6111050011366748\n",
            "- mse: 1574.1868213132657\n",
            "- mae: 27.767913052248122\n",
            "- informer_rmse: 34.10065392450411\n",
            "- informer_mse: 1577.7542958405554\n",
            "- informer_mae: 27.7962796128526\n",
            "----------------------------------\n",
            "Best validation model: val metrics\n",
            "----------------------------------\n",
            "- total: 13880.0\n",
            "- rmse: 5.1409068170816825\n",
            "- mse: 21101.94696956052\n",
            "- mae: 89.34690708303314\n",
            "- informer_rmse: 110.30834605477072\n",
            "- informer_mse: 21014.13413030451\n",
            "- informer_mae: 89.41307570717551\n",
            "-----------------------------------\n",
            "Best validation model: test metrics\n",
            "-----------------------------------\n",
            "- total: 11200.0\n",
            "- rmse: 7.126008747645787\n",
            "- mse: 27546.71953125\n",
            "- mae: 125.24329363141742\n",
            "- informer_rmse: 150.36230426364475\n",
            "- informer_mse: 27534.77454969618\n",
            "- informer_mae: 125.78134388393826\n"
          ]
        },
        {
          "data": {
            "image/png": "[encoded data removed]",
            "text/plain": [
              "<Figure size 1382.4x345.6 with 3 Axes>"
            ]
          },
          "metadata": {},
          "output_type": "display_data"
        }
      ],
      "source": [
        "eval_splits = ['eval_train', 'val', 'test']\n",
        "eval_loaders = get_evaluation_loaders(dataloaders, batch_size=dataloader_configs.batch_size)\n",
        "eval_loaders_by_split = {split: eval_loaders[ix] for ix, split in\n",
        "                         enumerate(eval_splits)}\n",
        "model, log_metrics, total_y = evaluate_model(model, dataloaders=eval_loaders_by_split, \n",
        "                                             optimizer=optimizer, scheduler=scheduler, \n",
        "                                             criterions=eval_criterions, config=args,\n",
        "                                             epoch=args.best_val_metric_epoch, \n",
        "                                             input_transform=input_transform, \n",
        "                                             output_transform=output_transform,\n",
        "                                             val_metric=args.val_metric, wandb=None,\n",
        "                                             train=False)\n",
        "n_plots = len(splits) # train, val, test\n",
        "fig, axes = plt.subplots(1, n_plots, figsize=(6.4 * n_plots, 4.8))\n",
        "\n",
        "plot_forecasts(total_y, splits=eval_splits, axes=axes)"
      ]
    },
    {
      "cell_type": "code",
      "execution_count": null,
      "metadata": {
        "colab": {
          "background_save": true
        },
        "id": "q31JDyqQCgV_",
        "outputId": "98be4a93-28ec-4e8b-8699-60aa57f09809"
      },
      "outputs": [
        {
          "name": "stdout",
          "output_type": "stream",
          "text": [
            "-----------------------------------------\n",
            "Best validation model: eval_train metrics\n",
            "-----------------------------------------\n",
            "- total: 125080.0\n",
            "- rmse: 1.6111050011366748\n",
            "- mse: 1574.1868213132657\n",
            "- mae: 27.767913052248122\n",
            "- informer_rmse: 34.10065392450411\n",
            "- informer_mse: 1577.7542958405554\n",
            "- informer_mae: 27.7962796128526\n",
            "----------------------------------\n",
            "Best validation model: val metrics\n",
            "----------------------------------\n",
            "- total: 13880.0\n",
            "- rmse: 5.1409068170816825\n",
            "- mse: 21101.94696956052\n",
            "- mae: 89.34690708303314\n",
            "- informer_rmse: 110.30834605477072\n",
            "- informer_mse: 21014.13413030451\n",
            "- informer_mae: 89.41307570717551\n",
            "-----------------------------------\n",
            "Best validation model: test metrics\n",
            "-----------------------------------\n",
            "- total: 11200.0\n",
            "- rmse: 7.126008747645787\n",
            "- mse: 27546.71953125\n",
            "- mae: 125.24329363141742\n",
            "- informer_rmse: 150.36230426364475\n",
            "- informer_mse: 27534.77454969618\n",
            "- informer_mae: 125.78134388393826\n"
          ]
        },
        {
          "data": {
            "image/png": "[encoded data removed]",
            "text/plain": [
              "<Figure size 1382.4x345.6 with 3 Axes>"
            ]
          },
          "metadata": {},
          "output_type": "display_data"
        }
      ],
      "source": [
        "eval_splits = ['eval_train', 'val', 'test']\n",
        "eval_loaders = get_evaluation_loaders(dataloaders, batch_size=dataloader_configs.batch_size)\n",
        "eval_loaders_by_split = {split: eval_loaders[ix] for ix, split in\n",
        "                         enumerate(eval_splits)}\n",
        "model, log_metrics, total_y = evaluate_model(model, dataloaders=eval_loaders_by_split, \n",
        "                                             optimizer=optimizer, scheduler=scheduler, \n",
        "                                             criterions=eval_criterions, config=args,\n",
        "                                             epoch=args.best_val_metric_epoch, \n",
        "                                             input_transform=input_transform, \n",
        "                                             output_transform=output_transform,\n",
        "                                             val_metric=args.val_metric, wandb=None,\n",
        "                                             train=False)\n",
        "n_plots = len(splits) # train, val, test\n",
        "fig, axes = plt.subplots(1, n_plots, figsize=(6.4 * n_plots, 4.8))\n",
        "\n",
        "plot_forecasts(total_y, splits=eval_splits, axes=axes)"
      ]
    },
    {
      "cell_type": "markdown",
      "metadata": {
        "id": "aTwLZxvuFW0H"
      },
      "source": [
        "## Part 2. Creating a trading bot\n",
        "\n",
        "Great! If you're just interested in training SpaceTime for forecasting time-series, the above should suffice. \n",
        "\n",
        "However, we can also extend this demo further with our particular time-series data. \n",
        "\n",
        "Barring some sanity checks and further evaluations*, we'll now see if we can use the above to power a simple trading bot.\n",
        "\n",
        "Again, *none of this is financial advice*.\n",
        "\n",
        "<p></p>\n",
        "<p></p>\n",
        "<p></p>\n",
        "---\n",
        "\n",
        "*We'll look into some of this below. For example, is there actually predictable signal in our data, or is this the data just a random walk that SpaceTime is learning to follow (e.g., by predicting future time-steps as forward-lagged versions of the last input it sees)? \n",
        "* While we aim to mitigate this by predicting further out (e.g., horizon of 2 weeks vs 1 day), the above test set forecasts look oddly suspicious of this (which we're looking at for didactic purposes but in practice won't have *- another caveat to this demo!*)"
      ]
    },
    {
      "cell_type": "markdown",
      "metadata": {
        "id": "h-R9InhBFcN-"
      },
      "source": [
        "---\n",
        "\n",
        "### Part 2.1 Simple trading strategy\n",
        "\n",
        "We'll follow the age-old adage of buying low and selling high. This might be easier said than done, but we'll attempt this with a simple forecasting strategy.  \n",
        "\n",
        "We'll use our SpaceTime model to predict the stock price for some horizon into the future, given the available historical lag terms. \n",
        "\n",
        "#### Level 1: Long only trading\n",
        "We'll act on these forecasts with a simple one-sided buying strat:  \n",
        "* At any given time, if the forecasted price is higher than the current price (the last lag term in our input), **and** we have enough money to buy a single share at the current price, we'll buy (at the current price). \n",
        "\n",
        "* We'll then greedily ***hodl***, waiting until the current price ever reaches our predicted price. Once this happens, we'll sell our share bought at that predicted price.  \n",
        "  * If we want to be slightly more advanced / cautious, we can define a margin where the current price doesn't need to exactly cross the predicted price. Instead, as long as `current_price - margin >= predicted_price`, we'll sell. \n",
        "  * We could also explore other variations of this; e.g., closing out the position after the horizon number of days passes, regardless of if the current price crosses our predicted prices \n",
        "\n",
        "\n",
        "#### Level 2: Long + short trading\n",
        "We'll also extend the above with a bot that can short assets too. In that case, if the forecasted price is lower than the current price"
      ]
    },
    {
      "cell_type": "markdown",
      "metadata": {
        "id": "MnkWzwScIxCh"
      },
      "source": [
        "\n",
        "---\n",
        "\n",
        "### Part 2.2 Trading bot \n",
        "  \n",
        "We'll implement the above with the following trading bot class. \n",
        "\n",
        "This isn't optimized for anything. So go wild extending the boilerplate and trading strats if you want."
      ]
    },
    {
      "cell_type": "code",
      "execution_count": null,
      "metadata": {
        "colab": {
          "background_save": true
        },
        "id": "bq8nFd-YG75N"
      },
      "outputs": [],
      "source": [
        "class TradingBot():\n",
        "    def __init__(self, \n",
        "                 initial_budget: int, \n",
        "                 margin: float=0,\n",
        "                 share_count: int=1,\n",
        "                 model: any=None,\n",
        "                 input_transform: any=None,\n",
        "                 output_transform: any=None,\n",
        "                 device: str='cuda:0'):\n",
        "        \"\"\"\n",
        "        Args:\n",
        "        - initial_budget: Budget we can trade with\n",
        "        - margin: Dollars below (above) the predicted price \n",
        "                  that we'll sell (buy) at\n",
        "        - share_count: Number of shares we'll trade if we want to and *can* trade\n",
        "        - model: Forecasting model\n",
        "        \"\"\"\n",
        "        super().__init__()\n",
        "        self.budget = [initial_budget]  # Keep track of budget over time\n",
        "        self.margin = margin\n",
        "        self.share_count = share_count\n",
        "        \n",
        "        # Logging\n",
        "        self.book = self.init_book()    # List of assets held\n",
        "        self.close_position_delta = []  # List of relative gains or losses after closing positions\n",
        "        self.log = []                   # List of all trades\n",
        "        \n",
        "        # Forecasting model\n",
        "        self.model = model\n",
        "        try: self.model.set_eval()  # Model might not be SpaceTime model\n",
        "        except: pass\n",
        "        transforms = self.init_transforms(input_transform,\n",
        "                                          output_transform)\n",
        "        self.input_transform, self.output_transform = transforms\n",
        "        self.device = torch.device(device)\n",
        "        \n",
        "    def init_book(self):\n",
        "        \"\"\"\n",
        "        Keeps track of the shares we bought and their prices\n",
        "        - We're not doing anything fancy here with sorted data structures,\n",
        "          someone else can implement that\n",
        "        \"\"\"\n",
        "        book = {'long': np.array([]),\n",
        "                'short': np.array([])}\n",
        "        return book\n",
        "    \n",
        "    def init_transforms(self, input_transform: any, \n",
        "                        output_transform: any):\n",
        "        if input_transform is None:\n",
        "            input_transform = lambda x: x\n",
        "        if output_transform is None:\n",
        "            output_transform = lambda x: x\n",
        "        return input_transform, output_transform\n",
        "        \n",
        "    def forecast(self, \n",
        "                 x: torch.Tensor) -> tuple[torch.Tensor, torch.Tensor]:\n",
        "        \"\"\"\n",
        "        Perform model inference on lag terms. \n",
        "        - See spacetime/train/step/informer.py for more details.\n",
        "        \n",
        "        Inputs:\n",
        "        - x: lag terms of shape (1, lag, 1) (batch, len, dim)\n",
        "        \n",
        "        Returns:\n",
        "        - Tuple of (current price, forecasted price)\n",
        "        \"\"\"\n",
        "        with torch.no_grad():\n",
        "            try:\n",
        "                self.model.to(self.device)\n",
        "            except:\n",
        "                pass\n",
        "            u = self.input_transform(x)\n",
        "            u = u.to(args.device)\n",
        "\n",
        "            y, _ = self.model(u)\n",
        "            y = self.output_transform(y[0]).cpu()\n",
        "            \n",
        "            y_curr = x[0, -1:, 0].item()\n",
        "            y_pred = y[0, -1:, 0].item()\n",
        "            return y_curr, y_pred\n",
        "        \n",
        "    def update_book(self):\n",
        "        # See child classes for implementation\n",
        "        raise NotImplementedError\n",
        "        \n",
        "    def trade(self):\n",
        "        # See child classes for implementation\n",
        "        raise NotImplementedError\n"
      ]
    },
    {
      "cell_type": "code",
      "execution_count": null,
      "metadata": {
        "colab": {
          "background_save": true
        },
        "id": "UlnH6qiLIV70"
      },
      "outputs": [],
      "source": [
        "class LongBot(TradingBot):\n",
        "    def __init__(self, **kwargs):\n",
        "        super().__init__(**kwargs)\n",
        "    \n",
        "    def trade(self, lag_prices: torch.tensor, time: int):\n",
        "        \"\"\"\n",
        "        The long strat.\n",
        "        \"\"\"\n",
        "        # Forecast future price\n",
        "        curr_price, pred_price = self.forecast(lag_prices)\n",
        "        # Sell any bought shares where current price >= bought price\n",
        "        revenue, returns = self.update_long_book(curr_price, time)\n",
        "        self.budget.append(self.budget[-1] + revenue)\n",
        "        self.close_position_delta.append(returns)\n",
        "\n",
        "        # Buy any shares where predicted price > current price\n",
        "        cost = self.buy(curr_price, pred_price, time)\n",
        "        self.budget.append(self.budget[-1] - cost)\n",
        "        \n",
        "    def buy(self, curr_price: float, pred_price: float, time: int) -> float:\n",
        "        buy_price = curr_price * self.share_count\n",
        "        if (pred_price > curr_price and buy_price <= self.budget[-1]):\n",
        "            # No optimization here\n",
        "            self.book['long'] = np.insert(self.book['long'],\n",
        "                                          0, buy_price)\n",
        "            self.log.append({'trade': 'buy',\n",
        "                             'price': buy_price,\n",
        "                             'time': time})\n",
        "            return buy_price\n",
        "        return 0.\n",
        "    \n",
        "    def update_long_book(self, curr_price: float, time: int) -> float:\n",
        "        \"\"\"\n",
        "        Returns updated buy book, along with price any assets were sold at\n",
        "        \"\"\"\n",
        "        sell_indices = np.where(\n",
        "            curr_price - self.margin >= self.book['long'])[0]\n",
        "        sell_price = len(sell_indices) * curr_price\n",
        "        \n",
        "        # Compute returns from selling at current price - margin\n",
        "        if len(sell_indices) > 0:\n",
        "            returns = (curr_price - self.margin - self.book['long'][sell_indices]).sum()\n",
        "        else:\n",
        "            returns = 0\n",
        "\n",
        "        self.book['long'] = np.delete(self.book['long'], sell_indices)\n",
        "        if len(sell_indices) > 0:\n",
        "            self.log.append({'trade': 'sell',\n",
        "                             'price': sell_price,\n",
        "                             'returns': returns,\n",
        "                             'time': time})\n",
        "        return sell_price, returns\n",
        "        "
      ]
    },
    {
      "cell_type": "code",
      "execution_count": null,
      "metadata": {
        "colab": {
          "background_save": true
        },
        "id": "9YlMks3QXon3"
      },
      "outputs": [],
      "source": [
        "class LongShortBot(LongBot):\n",
        "    def __init__(self, **kwargs):\n",
        "        super().__init__(**kwargs)\n",
        "    \n",
        "    def trade(self, lag_prices: torch.tensor, time: int):\n",
        "        \"\"\"\n",
        "        Bot can now long or short assets. Same workflow as before:\n",
        "        1. Forecast price\n",
        "        2. Greedily close-out any past positions\n",
        "        3. Enter new positions based on predictions and current price\n",
        "        \"\"\"\n",
        "        # Forecast future price\n",
        "        curr_price, pred_price = self.forecast(lag_prices)\n",
        "\n",
        "        # Sell any long shares where current price >= bought price\n",
        "        revenue, long_returns = self.update_long_book(curr_price, time)\n",
        "        # Buy back any short shares where current price <= sold price\n",
        "        cost, short_returns = self.update_short_book(curr_price, time)\n",
        "        self.budget.append(self.budget[-1] + revenue - cost)\n",
        "        self.close_position_delta.append(long_returns + short_returns)\n",
        "\n",
        "        # Buy any long shares where predicted price > current price\n",
        "        cost = self.long(curr_price, pred_price, time)\n",
        "        # Short any shares where predicted price < current price\n",
        "        revenue = self.short(curr_price, pred_price, time)\n",
        "        self.budget.append(self.budget[-1] + revenue - cost)\n",
        "        \n",
        "    def long(self, curr_price: float, pred_price: float, time: int) -> float:\n",
        "        return super().buy(curr_price, pred_price, time)\n",
        "\n",
        "    def short(self, curr_price: float, pred_price: float, time: int) -> float:\n",
        "        sell_price = curr_price * self.share_count\n",
        "        # We could be conservative here and only short if the price we borrow at \n",
        "        # is under our budget, but nah\n",
        "        if pred_price < curr_price:  #  and sell_price <= self.budget[-1]:  \n",
        "            # No optimization here\n",
        "            self.book['short'] = np.insert(self.book['short'], 0, sell_price)\n",
        "            self.log.append({'trade': 'short',\n",
        "                             'price': sell_price,\n",
        "                             'time': time})\n",
        "            return sell_price\n",
        "        return 0.\n",
        "\n",
        "    def update_long_book(self, curr_price: float, time: int) -> float:\n",
        "        return super().update_long_book(curr_price, time)\n",
        "    \n",
        "    def update_short_book(self, curr_price: float, time: int) -> float:\n",
        "        buy_indices = np.where(\n",
        "            curr_price + self.margin <= self.book['short'])[0]\n",
        "        buy_back_price = len(buy_indices) * curr_price\n",
        "\n",
        "        # Compute returns from buying at current price + margin\n",
        "        if len(buy_indices) > 0:\n",
        "            returns = (self.book['short'][buy_indices] - curr_price - self.margin).sum()\n",
        "        else:\n",
        "            returns = 0.\n",
        "        \n",
        "        self.book['short'] = np.delete(self.book['short'], buy_indices)\n",
        "        if len(buy_indices) > 0:\n",
        "            self.log.append({'trade': 'buy_back',\n",
        "                             'price': buy_back_price,\n",
        "                             'returns': returns,\n",
        "                             'time': time})\n",
        "        return buy_back_price, returns\n",
        "        "
      ]
    },
    {
      "cell_type": "markdown",
      "metadata": {
        "id": "Lt4AyVK4IZLa"
      },
      "source": [
        "### Part 2.3 Trading bot evaluation\n",
        "\n",
        "#### Single-batch dataloading\n",
        "Because we want a bot that can trade as data comes in, we'll set up a single-batch dataloader for our val and test sets (as opposed to the minibatch setup we did before, which would include future values)"
      ]
    },
    {
      "cell_type": "code",
      "execution_count": null,
      "metadata": {
        "colab": {
          "background_save": true
        },
        "id": "CfJzOICtI9IG",
        "outputId": "ec45ec58-6d8f-4d55-a840-69179909e77e"
      },
      "outputs": [
        {
          "name": "stderr",
          "output_type": "stream",
          "text": [
            "/usr/local/lib/python3.9/dist-packages/torch/utils/data/dataloader.py:554: UserWarning: This DataLoader will create 10 worker processes in total. Our suggested max number of worker in current system is 2, which is smaller than what this DataLoader is going to create. Please be aware that excessive worker creation might get DataLoader running slow or even freeze, lower the worker number to avoid potential slowness/freeze if necessary.\n",
            "  warnings.warn(_create_warning_msg(\n"
          ]
        }
      ],
      "source": [
        "val_loader_sb = DataLoader(val_loader.dataset, shuffle=False, \n",
        "                           batch_size=1, num_workers=10)\n",
        "test_loader_sb = DataLoader(test_loader.dataset, shuffle=False, \n",
        "                            batch_size=1, num_workers=10)"
      ]
    },
    {
      "cell_type": "markdown",
      "metadata": {
        "id": "2cLGY0YRKyDm"
      },
      "source": [
        "#### Trading and return functions"
      ]
    },
    {
      "cell_type": "code",
      "execution_count": null,
      "metadata": {
        "colab": {
          "background_save": true
        },
        "id": "U7ESlFVqKvxL"
      },
      "outputs": [],
      "source": [
        "def run_trading_session(bot, dataloader):\n",
        "    # Run trading\n",
        "    for ix, data in enumerate(dataloader):\n",
        "        x, y, *z = data\n",
        "        x = x[:, :args.lag, :]\n",
        "        bot.trade(x, ix)\n",
        "        \n",
        "    # Fill out any remaining trades\n",
        "    for ix, _y in enumerate(y[0, :, 0]):\n",
        "        time = ix + bot.log[-1]['time'] if len(bot.log) > 0 else ix\n",
        "        revenue, long_returns = bot.update_long_book(_y.item(), time)\n",
        "        budget = bot.budget[-1]\n",
        "        bot.budget.append(budget + revenue)\n",
        "        bot.close_position_delta.append(long_returns)\n",
        "        try:  # Hacks, only applies to bots that can short assets\n",
        "            cost, short_returns = bot.update_short_book(_y.item(), time)\n",
        "            budget = bot.budget[-1]\n",
        "            bot.budget.append(budget - cost)\n",
        "            bot.close_position_delta.append(short_returns)\n",
        "        except:\n",
        "            pass\n",
        "\n",
        "    # Sell any long positions\n",
        "    for price in bot.book['long']:   # The price initially bought at\n",
        "        budget = bot.budget[-1]\n",
        "        bot.budget.append(budget + _y )  # Sell at current price\n",
        "        bot.close_position_delta.append(_y - price)  # Positive if current > bought_price\n",
        "        bot.log.append({'trade': 'sell',\n",
        "                        'price': _y,\n",
        "                        'returns': _y - price,\n",
        "                        'time': time})\n",
        "\n",
        "    # Buy back any short positions\n",
        "    for price in bot.book['short']:  # The price initially sold at\n",
        "        budget = bot.budget[-1]  \n",
        "        bot.budget.append(budget - _y)  # Buy back at current price\n",
        "        bot.close_position_delta.append(price - _y)  # Positive if current < sold at\n",
        "        bot.log.append({'trade': 'buy_back',\n",
        "                        'price': _y,\n",
        "                        'returns': price - _y,\n",
        "                        'time': time})\n",
        "        \n",
        "    return bot\n",
        "    "
      ]
    },
    {
      "cell_type": "code",
      "execution_count": null,
      "metadata": {
        "colab": {
          "background_save": true
        },
        "id": "RDd4b2RxK5zn"
      },
      "outputs": [],
      "source": [
        "def compute_positive_returns(bot, initial_budget):\n",
        "    pos_returns = [0]\n",
        "    for b in bot.budget:\n",
        "        if b > initial_budget:\n",
        "            pos_returns.append(b - initial_budget)\n",
        "        else:\n",
        "            pos_returns.append(pos_returns[-1])\n",
        "    return pos_returns"
      ]
    },
    {
      "cell_type": "markdown",
      "metadata": {
        "id": "UuUMpzn8L6C7"
      },
      "source": [
        "#### Set baselines and alternatives\n",
        "\n",
        "To get a better sense of how we actually do, we'll compare against three alternatives for trading.\n",
        "1. **Last lag forecasts**: We'll adopt the same forecast-driven approach as above. But now, we'll just predict future prices as the last available lag terms (i.e., the most recent prices, reflecting an optimal approach if the data is truly a random walk). More on this below*\n",
        "  * Note that this bot will never actually trade with the above strategy, because we're predicting that the price will remain the same.\n",
        "  * This can still give us a sense of if our trained SpaceTime model is actually learning any useful signal (do we do better than not doing anything at all). \n",
        "\n",
        "2. **Trending lag forecasts**: We'll do the same as above, but to actually make some trades, we'll look back the same number of terms we're trying to predict out (e.g., the horizon), compute a mean trend, and apply this to the last lag term to predict our horizon.\n",
        "\n",
        "3. **Buying and holding / Hodling**: We'll just go long on the asset 🚀🌕.\n",
        "\n",
        "<p></p>\n",
        "---\n",
        "\n",
        "##### *Last lag forecasting\n",
        "One (hidden) failure mode might be that the model might just be using the last lag terms as predictions for the horizon terms (e.g., as noted in this [demo training an LSTM to predict stock price data](https://towardsdatascience.com/how-not-to-predict-stock-prices-with-lstms-a51f564ccbca)). In other words, we're just predicting prices close to the last prices seen. \n",
        "* Now if the data truly is unpredictable as a random walk, then we'd actually expect this kind of behavior. However, this also means our model isn't able to learn anything useful dependencies between historical and future data to predict future prices.  \n"
      ]
    },
    {
      "cell_type": "code",
      "execution_count": null,
      "metadata": {
        "colab": {
          "background_save": true
        },
        "id": "muuz_MjyQ5eD"
      },
      "outputs": [],
      "source": [
        "class LastLagBot(LongShortBot):\n",
        "    \"\"\"\n",
        "    Trading bot that uses the current price as forecasts for future prices,\n",
        "    and trades based on these predictions.\n",
        "    - In reality, a last lag bot will never trade\n",
        "    \"\"\"\n",
        "    def __init__(self, **kwargs):\n",
        "        super().__init__(**kwargs)\n",
        "\n",
        "    def forecast(self, x: torch.Tensor) -> tuple[torch.Tensor, torch.Tensor]:\n",
        "        \"\"\"\n",
        "        Only method we override. Instead of using a trained model, we'll\n",
        "        just predict the current price (last lag input) to be the future price\n",
        "        - But then the bot will never trade\n",
        "        \"\"\"\n",
        "        y_curr = x[0, -1:, 0].item()\n",
        "        y_pred = y_curr\n",
        "        return y_curr, y_pred\n"
      ]
    },
    {
      "cell_type": "code",
      "execution_count": null,
      "metadata": {
        "colab": {
          "background_save": true
        },
        "id": "FbogDu5rNXo0"
      },
      "outputs": [],
      "source": [
        "class TrendLagBot(LongShortBot):\n",
        "    \"\"\"\n",
        "    Trading bot that uses the current price as forecasts for future prices,\n",
        "    and trades based on these predictions.\n",
        "    - In reality, a last lag bot will never trade\n",
        "    \"\"\"\n",
        "    def __init__(self, trend_window, **kwargs):\n",
        "        assert trend_window >= 0\n",
        "        self.trend_window = trend_window\n",
        "        super().__init__(**kwargs)\n",
        "\n",
        "    def forecast(self, x: torch.Tensor) -> tuple[torch.Tensor, torch.Tensor]:\n",
        "        \"\"\"\n",
        "        Only method we override. Instead of using a trained model, we'll\n",
        "        just predict the current price (last lag input) to be the future price\n",
        "        - But then the bot will never trade\n",
        "        \"\"\"\n",
        "        y_curr = x[0, -1:, 0].item()\n",
        "        trend_window = min(self.trend_window, x.shape[1])  # Assume x is shape B x L x D\n",
        "        y_pred = y_curr + max(y_curr - x[0, -trend_window, 0].item(), 0) \n",
        "        return y_curr, y_pred\n"
      ]
    },
    {
      "cell_type": "code",
      "execution_count": null,
      "metadata": {
        "colab": {
          "background_save": true
        },
        "id": "fwKy0ovASVPf"
      },
      "outputs": [],
      "source": [
        "class HODLBot(LongBot):\n",
        "    \"\"\"\n",
        "    Trading bot that just buys and holds. To reflect this position over time, \n",
        "    we always predict that price will go up.\n",
        "    \"\"\"\n",
        "    def __init__(self, **kwargs):\n",
        "        super().__init__(**kwargs)\n",
        "\n",
        "    def forecast(self, x: torch.Tensor) -> tuple[torch.Tensor, torch.Tensor]:\n",
        "        \"\"\"\n",
        "        Only method we override. Instead of using a trained model, we'll\n",
        "        just predict the current price (last lag input) to be the future price\n",
        "        - But then the bot will never trade\n",
        "        \"\"\"\n",
        "        y_curr = x[0, -1:, 0].item()\n",
        "        y_pred = y_curr + 1  # Reflect positivity + belief that price will go up\n",
        "        return y_curr, y_pred\n"
      ]
    },
    {
      "cell_type": "markdown",
      "metadata": {
        "id": "uG-RWbopUbEG"
      },
      "source": [
        "### Part 2.4 Trading time\n",
        "\n",
        "We'll compare the performance of a long-only SpaceTime trading bot, and a SpaceTime bot that can take long and short positions, with the above baselines."
      ]
    },
    {
      "cell_type": "code",
      "execution_count": null,
      "metadata": {
        "colab": {
          "background_save": true
        },
        "id": "tXOwiyLhUL0e"
      },
      "outputs": [],
      "source": [
        "initial_budget = 10000        # Standard brokerage\n",
        "margin = 0                    # Keep things simple\n",
        "eval_loader = test_loader_sb  # Evaluate on test dates\n",
        "\n",
        "# Initialize trading bots\n",
        "spacetime_long_bot = LongBot(initial_budget=initial_budget, \n",
        "                             margin=margin,\n",
        "                             share_count=1,\n",
        "                             model=model,\n",
        "                             input_transform=input_transform,\n",
        "                             output_transform=output_transform,\n",
        "                             device=args.device)\n",
        "\n",
        "spacetime_longshort_bot = LongShortBot(initial_budget=initial_budget, \n",
        "                                       margin=margin,\n",
        "                                       share_count=1,\n",
        "                                       model=model,\n",
        "                                       input_transform=input_transform,\n",
        "                                       output_transform=output_transform,\n",
        "                                       device=args.device)\n",
        "\n",
        "last_lag_bot = LastLagBot(initial_budget=initial_budget, \n",
        "                          margin=margin,\n",
        "                          share_count=1,\n",
        "                          model=None,\n",
        "                          input_transform=None,\n",
        "                          output_transform=None,\n",
        "                          device='cpu')\n",
        "\n",
        "trend_lag_bot = TrendLagBot(initial_budget=initial_budget, \n",
        "                            margin=margin,\n",
        "                            share_count=1,\n",
        "                            trend_window=args.horizon,\n",
        "                            model=None,\n",
        "                            input_transform=None,\n",
        "                            output_transform=None,\n",
        "                            device='cpu')\n",
        "\n",
        "hodl_bot = HODLBot(initial_budget=initial_budget, \n",
        "                   margin=margin,\n",
        "                   share_count=1,\n",
        "                   model=None,\n",
        "                   input_transform=None,\n",
        "                   output_transform=None,\n",
        "                   device='cpu')\n",
        "\n",
        "# Run trading session\n",
        "spacetime_long_bot = run_trading_session(spacetime_long_bot, eval_loader)\n",
        "spacetime_longshort_bot = run_trading_session(spacetime_longshort_bot, eval_loader)\n",
        "last_lag_bot = run_trading_session(last_lag_bot, eval_loader)\n",
        "trend_lag_bot = run_trading_session(trend_lag_bot, eval_loader)\n",
        "hodl_bot = run_trading_session(hodl_bot, eval_loader)"
      ]
    },
    {
      "cell_type": "code",
      "execution_count": null,
      "metadata": {
        "colab": {
          "background_save": true
        },
        "id": "M47o8iq5K_pL",
        "outputId": "3a1cd3eb-0541-45ad-b7d6-86eca15eb3f6"
      },
      "outputs": [
        {
          "data": {
            "image/png": "[encoded data removed]",
            "text/plain": [
              "<Figure size 432x288 with 1 Axes>"
            ]
          },
          "metadata": {},
          "output_type": "display_data"
        }
      ],
      "source": [
        "## Budget over time\n",
        "plt.plot(spacetime_long_bot.budget, label='SpaceTime')\n",
        "plt.plot(spacetime_longshort_bot.budget, label='SpaceTime LS')\n",
        "plt.plot(last_lag_bot.budget, label='Last Lag (no trade)', linestyle='--')\n",
        "plt.plot(trend_lag_bot.budget, label='Trend')\n",
        "plt.plot(hodl_bot.budget, label='HODL', linestyle='-.')\n",
        "plt.title('Budget with trades over time')\n",
        "plt.legend()\n",
        "plt.show()"
      ]
    },
    {
      "cell_type": "code",
      "execution_count": null,
      "metadata": {
        "colab": {
          "background_save": true
        },
        "id": "Mkts7iAzPpi9",
        "outputId": "09907b3d-f575-4bad-8a5a-7c5adc9a866b"
      },
      "outputs": [
        {
          "data": {
            "image/png": "[encoded data removed]",
            "text/plain": [
              "<Figure size 432x288 with 1 Axes>"
            ]
          },
          "metadata": {},
          "output_type": "display_data"
        }
      ],
      "source": [
        "# Plot cumulative close position deltas over time\n",
        "plt.plot(np.cumsum(spacetime_long_bot.close_position_delta), label='SpaceTime')\n",
        "plt.plot(np.cumsum(spacetime_longshort_bot.close_position_delta), label='SpaceTime LS')\n",
        "plt.plot(np.cumsum(last_lag_bot.close_position_delta), label='Last Lag (no trade)', linestyle='--')\n",
        "plt.plot(np.cumsum(trend_lag_bot.close_position_delta), label='Trend')\n",
        "plt.plot(np.cumsum(hodl_bot.close_position_delta), label='HODL', linestyle='-.')\n",
        "plt.title('Close position delta over time')\n",
        "plt.legend()\n",
        "plt.show()"
      ]
    },
    {
      "cell_type": "code",
      "execution_count": null,
      "metadata": {
        "colab": {
          "background_save": true
        },
        "id": "i9DAdK5LL-MN",
        "outputId": "33f6b251-b392-46eb-bfba-721a758e193a"
      },
      "outputs": [
        {
          "name": "stderr",
          "output_type": "stream",
          "text": [
            "<ipython-input-64-202da85433c2>:11: MatplotlibDeprecationWarning: Unable to determine Axes to steal space for Colorbar. Using gca(), but will raise in the future. Either provide the *cax* argument to use as the Axes for the Colorbar, provide the *ax* argument to steal space from it, or add *mappable* to an Axes.\n",
            "  plt.colorbar(plot)\n"
          ]
        },
        {
          "data": {
            "image/png": "[encoded data removed]",
            "text/plain": [
              "<Figure size 576x360 with 2 Axes>"
            ]
          },
          "metadata": {},
          "output_type": "display_data"
        }
      ],
      "source": [
        "bots = ['SpaceTime \\n(Long only)', 'SpaceTime', 'No trade', 'Trend', 'HODL']\n",
        "deltas = [np.cumsum(spacetime_long_bot.close_position_delta)[-1],\n",
        "          np.cumsum(spacetime_longshort_bot.close_position_delta)[-1],\n",
        "          np.cumsum(last_lag_bot.close_position_delta)[-1],\n",
        "          np.cumsum(trend_lag_bot.close_position_delta)[-1],\n",
        "          np.cumsum(hodl_bot.close_position_delta)[-1]]\n",
        "\n",
        "fig = plt.figure(figsize = (8, 5))\n",
        "plot = plt.scatter(deltas, deltas, c = deltas, cmap = 'coolwarm_r')\n",
        "plt.clf()\n",
        "plt.colorbar(plot)\n",
        "plt.bar(bots, deltas, width = 0.4, color=plt.cm.coolwarm_r(deltas),\n",
        "        edgecolor='black')\n",
        "plt.axhline(y=0, linewidth=1, color='k')\n",
        "plt.title('Relative position after trading')\n",
        "plt.show()"
      ]
    },
    {
      "cell_type": "code",
      "execution_count": null,
      "metadata": {
        "colab": {
          "background_save": true
        },
        "id": "A_BnzPDDUNoy",
        "outputId": "c2039e84-c68d-43e0-a14d-2cde6a04b268"
      },
      "outputs": [
        {
          "data": {
            "image/png": "[encoded data removed]",
            "text/plain": [
              "<Figure size 432x288 with 1 Axes>"
            ]
          },
          "metadata": {},
          "output_type": "display_data"
        },
        {
          "name": "stderr",
          "output_type": "stream",
          "text": [
            "<ipython-input-65-184b4774dbe3>:28: MatplotlibDeprecationWarning: Unable to determine Axes to steal space for Colorbar. Using gca(), but will raise in the future. Either provide the *cax* argument to use as the Axes for the Colorbar, provide the *ax* argument to steal space from it, or add *mappable* to an Axes.\n",
            "  plt.colorbar(plot)\n"
          ]
        },
        {
          "data": {
            "image/png": "[encoded data removed]",
            "text/plain": [
              "<Figure size 576x360 with 2 Axes>"
            ]
          },
          "metadata": {},
          "output_type": "display_data"
        }
      ],
      "source": [
        "## More fun, play around with trading margin\n",
        "initial_budget = 10000        # Standard brokerage\n",
        "eval_loader = test_loader_sb  # Evaluate on test dates\n",
        "\n",
        "margins = [0, 10, 20, 30, 40, 50]\n",
        "bots = []\n",
        "for margin in margins:\n",
        "    spacetime_longshort_bot = LongShortBot(initial_budget=initial_budget, \n",
        "                                           margin=margin,\n",
        "                                           share_count=1,\n",
        "                                           model=model,\n",
        "                                           input_transform=input_transform,\n",
        "                                           output_transform=output_transform,\n",
        "                                           device=args.device)\n",
        "    spacetime_longshort_bot = run_trading_session(spacetime_longshort_bot, eval_loader)\n",
        "    bots.append(spacetime_longshort_bot)\n",
        "\n",
        "    plt.plot(np.cumsum(spacetime_longshort_bot.close_position_delta), label=f'margin={margin}')\n",
        "plt.title('Close position delta over time')\n",
        "plt.legend()\n",
        "plt.show()\n",
        "\n",
        "deltas = [np.cumsum(bot.close_position_delta)[-1] for bot in bots]\n",
        "\n",
        "fig = plt.figure(figsize = (8, 5))\n",
        "plot = plt.scatter(deltas, deltas, c = deltas, cmap = 'coolwarm_r')\n",
        "plt.clf()\n",
        "plt.colorbar(plot)\n",
        "plt.bar([str(m) for m in margins], deltas, width = 0.4, color=plt.cm.coolwarm_r(deltas),\n",
        "        edgecolor='black')\n",
        "plt.axhline(y=0, linewidth=1, color='k')\n",
        "plt.title('Relative position after trading')\n",
        "plt.show()\n",
        "\n"
      ]
    },
    {
      "cell_type": "code",
      "execution_count": null,
      "metadata": {
        "colab": {
          "background_save": true
        },
        "id": "G-wuK71X-zsV"
      },
      "outputs": [],
      "source": []
    }
  ],
  "metadata": {
    "accelerator": "GPU",
    "colab": {
      "toc_visible": true,
      "provenance": [],
      "include_colab_link": true
    },
    "gpuClass": "standard",
    "kernelspec": {
      "display_name": "Python 3",
      "name": "python3"
    },
    "language_info": {
      "name": "python"
    }
  },
  "nbformat": 4,
  "nbformat_minor": 0
}